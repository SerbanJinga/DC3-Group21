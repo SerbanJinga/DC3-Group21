{
 "cells": [
  {
   "cell_type": "markdown",
   "metadata": {
    "pycharm": {
     "name": "#%% md\n"
    }
   },
   "source": [
    "# Topic modelling using BERTopic"
   ]
  },
  {
   "cell_type": "markdown",
   "metadata": {
    "pycharm": {
     "name": "#%% md\n"
    }
   },
   "source": [
    "## Libraries/data required"
   ]
  },
  {
   "cell_type": "code",
   "execution_count": 2,
   "metadata": {
    "pycharm": {
     "is_executing": true,
     "name": "#%%\n"
    }
   },
   "outputs": [
    {
     "name": "stderr",
     "output_type": "stream",
     "text": [
      "C:\\Users\\20212324\\PycharmProjects\\DC3-Group21\\venv\\lib\\site-packages\\umap\\distances.py:1063: NumbaDeprecationWarning: \u001b[1mThe 'nopython' keyword argument was not supplied to the 'numba.jit' decorator. The implicit default value for this argument is currently False, but it will be changed to True in Numba 0.59.0. See https://numba.readthedocs.io/en/stable/reference/deprecation.html#deprecation-of-object-mode-fall-back-behaviour-when-using-jit for details.\u001b[0m\n",
      "  @numba.jit()\n",
      "C:\\Users\\20212324\\PycharmProjects\\DC3-Group21\\venv\\lib\\site-packages\\umap\\distances.py:1071: NumbaDeprecationWarning: \u001b[1mThe 'nopython' keyword argument was not supplied to the 'numba.jit' decorator. The implicit default value for this argument is currently False, but it will be changed to True in Numba 0.59.0. See https://numba.readthedocs.io/en/stable/reference/deprecation.html#deprecation-of-object-mode-fall-back-behaviour-when-using-jit for details.\u001b[0m\n",
      "  @numba.jit()\n",
      "C:\\Users\\20212324\\PycharmProjects\\DC3-Group21\\venv\\lib\\site-packages\\umap\\distances.py:1086: NumbaDeprecationWarning: \u001b[1mThe 'nopython' keyword argument was not supplied to the 'numba.jit' decorator. The implicit default value for this argument is currently False, but it will be changed to True in Numba 0.59.0. See https://numba.readthedocs.io/en/stable/reference/deprecation.html#deprecation-of-object-mode-fall-back-behaviour-when-using-jit for details.\u001b[0m\n",
      "  @numba.jit()\n",
      "C:\\Users\\20212324\\PycharmProjects\\DC3-Group21\\venv\\lib\\site-packages\\umap\\umap_.py:660: NumbaDeprecationWarning: \u001b[1mThe 'nopython' keyword argument was not supplied to the 'numba.jit' decorator. The implicit default value for this argument is currently False, but it will be changed to True in Numba 0.59.0. See https://numba.readthedocs.io/en/stable/reference/deprecation.html#deprecation-of-object-mode-fall-back-behaviour-when-using-jit for details.\u001b[0m\n",
      "  @numba.jit()\n"
     ]
    }
   ],
   "source": [
    "# IMPORTS\n",
    "from bertopic import BERTopic\n",
    "import pandas as pd\n",
    "import os"
   ]
  },
  {
   "cell_type": "code",
   "execution_count": 3,
   "metadata": {
    "pycharm": {
     "name": "#%%\n"
    }
   },
   "outputs": [
    {
     "name": "stdout",
     "output_type": "stream",
     "text": [
      "(18520, 5)\n"
     ]
    },
    {
     "data": {
      "text/html": [
       "<div>\n",
       "<style scoped>\n",
       "    .dataframe tbody tr th:only-of-type {\n",
       "        vertical-align: middle;\n",
       "    }\n",
       "\n",
       "    .dataframe tbody tr th {\n",
       "        vertical-align: top;\n",
       "    }\n",
       "\n",
       "    .dataframe thead th {\n",
       "        text-align: right;\n",
       "    }\n",
       "</style>\n",
       "<table border=\"1\" class=\"dataframe\">\n",
       "  <thead>\n",
       "    <tr style=\"text-align: right;\">\n",
       "      <th></th>\n",
       "      <th>summary</th>\n",
       "      <th>date</th>\n",
       "      <th>location_article</th>\n",
       "      <th>lat</th>\n",
       "      <th>lng</th>\n",
       "    </tr>\n",
       "  </thead>\n",
       "  <tbody>\n",
       "    <tr>\n",
       "      <th>0</th>\n",
       "      <td>The article discusses the passing of the new C...</td>\n",
       "      <td>2011-07-07</td>\n",
       "      <td>Juba</td>\n",
       "      <td>4.859363</td>\n",
       "      <td>31.571250</td>\n",
       "    </tr>\n",
       "    <tr>\n",
       "      <th>1</th>\n",
       "      <td>The article discusses the military actions tak...</td>\n",
       "      <td>2011-07-03</td>\n",
       "      <td>Abyei</td>\n",
       "      <td>9.838551</td>\n",
       "      <td>28.486396</td>\n",
       "    </tr>\n",
       "    <tr>\n",
       "      <th>2</th>\n",
       "      <td>The article discusses the signing of a Framewo...</td>\n",
       "      <td>2011-06-30</td>\n",
       "      <td>Southern Kordofan</td>\n",
       "      <td>11.036544</td>\n",
       "      <td>30.895824</td>\n",
       "    </tr>\n",
       "    <tr>\n",
       "      <th>3</th>\n",
       "      <td>The article discusses the upcoming independenc...</td>\n",
       "      <td>2011-07-04</td>\n",
       "      <td>South Sudan</td>\n",
       "      <td>6.876992</td>\n",
       "      <td>31.306979</td>\n",
       "    </tr>\n",
       "    <tr>\n",
       "      <th>4</th>\n",
       "      <td>The article discusses the need for South Sudan...</td>\n",
       "      <td>2011-07-02</td>\n",
       "      <td>Juba</td>\n",
       "      <td>4.859363</td>\n",
       "      <td>31.571250</td>\n",
       "    </tr>\n",
       "  </tbody>\n",
       "</table>\n",
       "</div>"
      ],
      "text/plain": [
       "                                             summary       date  \\\n",
       "0  The article discusses the passing of the new C... 2011-07-07   \n",
       "1  The article discusses the military actions tak... 2011-07-03   \n",
       "2  The article discusses the signing of a Framewo... 2011-06-30   \n",
       "3  The article discusses the upcoming independenc... 2011-07-04   \n",
       "4  The article discusses the need for South Sudan... 2011-07-02   \n",
       "\n",
       "    location_article        lat        lng  \n",
       "0               Juba   4.859363  31.571250  \n",
       "1              Abyei   9.838551  28.486396  \n",
       "2  Southern Kordofan  11.036544  30.895824  \n",
       "3        South Sudan   6.876992  31.306979  \n",
       "4               Juba   4.859363  31.571250  "
      ]
     },
     "execution_count": 3,
     "metadata": {},
     "output_type": "execute_result"
    }
   ],
   "source": [
    "# Read the data and perform preprocessing\n",
    "\n",
    "df = pd.read_csv(\"data/articles_summary_cleaned.csv\", parse_dates=[\"date\"]) # Read data into 'df' dataframe\n",
    "print(df.shape) # Print dataframe shape\n",
    "\n",
    "docs = df[\"summary\"].tolist() # Create a list containing all article summaries\n",
    "\n",
    "df.head() # Show first 5 dataframe entries"
   ]
  },
  {
   "cell_type": "markdown",
   "metadata": {
    "pycharm": {
     "name": "#%% md\n"
    }
   },
   "source": [
    "## Fitting BERTopic\n",
    "\n",
    "This might take a while on a CPU. In the background a pre-trained Large Language Model, called the sentence embedder, is used to convert the articles to a semantic vector space. We then perform clustering in this space."
   ]
  },
  {
   "cell_type": "code",
   "execution_count": 4,
   "metadata": {
    "pycharm": {
     "name": "#%%\n"
    }
   },
   "outputs": [],
   "source": [
    "if os.path.exists('southsudan_model'):\n",
    "    bertopic = BERTopic.load('southsudan_model')\n",
    "else:\n",
    "    bertopic = BERTopic(language=\"english\", calculate_probabilities=True, verbose=True) # Initialize the BERTopic model\n",
    "\n",
    "    bertopic.fit_transform(docs) # Fit the model to the list of article summaries\n",
    "    bertopic.save(\"southsudan_model\") # Save the trained model as \"southsudan_model\""
   ]
  },
  {
   "cell_type": "code",
   "execution_count": 4,
   "metadata": {
    "pycharm": {
     "name": "#%%\n"
    }
   },
   "outputs": [],
   "source": [
    "#Due to the modularity of the model, there is a lot of randomness that hinders reproducibiity of the model.\n",
    "#To fight this, you can for example set random state in the dimensionality reduction step via the following lines \n",
    "#or explore a different approach\n",
    "\n",
    "#from bertopic import BERTopic\n",
    "#from umap import UMAP\n",
    "\n",
    "#umap_model = UMAP(n_neighbors=15, n_components=5, \n",
    "#                  min_dist=0.0, metric='cosine', random_state=42)\n",
    "#topic_model = BERTopic(umap_model=umap_model)"
   ]
  },
  {
   "cell_type": "markdown",
   "metadata": {
    "collapsed": false,
    "jupyter": {
     "outputs_hidden": false
    },
    "pycharm": {
     "name": "#%% md\n"
    }
   },
   "source": [
    "# changing bertopic"
   ]
  },
  {
   "cell_type": "markdown",
   "metadata": {
    "collapsed": false,
    "jupyter": {
     "outputs_hidden": false
    },
    "pycharm": {
     "name": "#%% md\n"
    }
   },
   "source": [
    "## standard"
   ]
  },
  {
   "cell_type": "code",
   "execution_count": 30,
   "metadata": {
    "collapsed": false,
    "jupyter": {
     "outputs_hidden": false
    },
    "pycharm": {
     "name": "#%%\n"
    }
   },
   "outputs": [],
   "source": [
    "from bertopic import BERTopic\n",
    "from umap import UMAP\n",
    "\n",
    "umap_model = UMAP(random_state=42)\n",
    "\n",
    "if os.path.exists('southsudan_model2'):\n",
    "    bertopic_standard = BERTopic.load('southsudan_model2')\n",
    "else:\n",
    "    bertopic_standard = BERTopic(language=\"english\", calculate_probabilities=True, verbose=True, umap_model=umap_model) # Initialize the BERTopic model\n",
    "    bertopic_standard.fit_transform(docs) # Fit the model to the list of article summaries\n",
    "    bertopic_standard.save(\"southsudan_model2\") # Save the trained model as \"southsudan_model\""
   ]
  },
  {
   "cell_type": "code",
   "execution_count": 31,
   "metadata": {
    "collapsed": false,
    "jupyter": {
     "outputs_hidden": false
    },
    "pycharm": {
     "name": "#%%\n"
    }
   },
   "outputs": [
    {
     "data": {
      "text/html": [
       "<div>\n",
       "<style scoped>\n",
       "    .dataframe tbody tr th:only-of-type {\n",
       "        vertical-align: middle;\n",
       "    }\n",
       "\n",
       "    .dataframe tbody tr th {\n",
       "        vertical-align: top;\n",
       "    }\n",
       "\n",
       "    .dataframe thead th {\n",
       "        text-align: right;\n",
       "    }\n",
       "</style>\n",
       "<table border=\"1\" class=\"dataframe\">\n",
       "  <thead>\n",
       "    <tr style=\"text-align: right;\">\n",
       "      <th></th>\n",
       "      <th>Topic</th>\n",
       "      <th>Count</th>\n",
       "      <th>Name</th>\n",
       "      <th>Representation</th>\n",
       "      <th>Representative_Docs</th>\n",
       "    </tr>\n",
       "  </thead>\n",
       "  <tbody>\n",
       "    <tr>\n",
       "      <th>0</th>\n",
       "      <td>-1</td>\n",
       "      <td>6559</td>\n",
       "      <td>-1_the_and_of_to</td>\n",
       "      <td>[the, and, of, to, in, south, sudan, article, ...</td>\n",
       "      <td>[The article discusses the United States' deep...</td>\n",
       "    </tr>\n",
       "    <tr>\n",
       "      <th>1</th>\n",
       "      <td>0</td>\n",
       "      <td>377</td>\n",
       "      <td>0_food_wfp_million_hunger</td>\n",
       "      <td>[food, wfp, million, hunger, people, famine, a...</td>\n",
       "      <td>[The article discusses how USAID has provided ...</td>\n",
       "    </tr>\n",
       "    <tr>\n",
       "      <th>2</th>\n",
       "      <td>1</td>\n",
       "      <td>355</td>\n",
       "      <td>1_kiir_his_author_president</td>\n",
       "      <td>[kiir, his, author, president, salva, kiirs, c...</td>\n",
       "      <td>[The article discusses the political crisis in...</td>\n",
       "    </tr>\n",
       "    <tr>\n",
       "      <th>3</th>\n",
       "      <td>2</td>\n",
       "      <td>331</td>\n",
       "      <td>2_abyei_referendum_ngok_area</td>\n",
       "      <td>[abyei, referendum, ngok, area, misseriya, din...</td>\n",
       "      <td>[The article discusses the African Union Peace...</td>\n",
       "    </tr>\n",
       "    <tr>\n",
       "      <th>4</th>\n",
       "      <td>3</td>\n",
       "      <td>227</td>\n",
       "      <td>3_million_aid_humanitarian_funding</td>\n",
       "      <td>[million, aid, humanitarian, funding, people, ...</td>\n",
       "      <td>[The article discusses the US President author...</td>\n",
       "    </tr>\n",
       "    <tr>\n",
       "      <th>...</th>\n",
       "      <td>...</td>\n",
       "      <td>...</td>\n",
       "      <td>...</td>\n",
       "      <td>...</td>\n",
       "      <td>...</td>\n",
       "    </tr>\n",
       "    <tr>\n",
       "      <th>241</th>\n",
       "      <td>240</td>\n",
       "      <td>10</td>\n",
       "      <td>240_kalaazar_disease_azar_kala</td>\n",
       "      <td>[kalaazar, disease, azar, kala, flies, cases, ...</td>\n",
       "      <td>[The article discusses the outbreak of Kala-az...</td>\n",
       "    </tr>\n",
       "    <tr>\n",
       "      <th>242</th>\n",
       "      <td>241</td>\n",
       "      <td>10</td>\n",
       "      <td>241_refugees_batil_hygiene_respiratory</td>\n",
       "      <td>[refugees, batil, hygiene, respiratory, nile, ...</td>\n",
       "      <td>[The article discusses the alarming health sit...</td>\n",
       "    </tr>\n",
       "    <tr>\n",
       "      <th>243</th>\n",
       "      <td>242</td>\n",
       "      <td>10</td>\n",
       "      <td>242_comic_defections_conflict_salva</td>\n",
       "      <td>[comic, defections, conflict, salva, political...</td>\n",
       "      <td>[The article discusses the ongoing conflict be...</td>\n",
       "    </tr>\n",
       "    <tr>\n",
       "      <th>244</th>\n",
       "      <td>243</td>\n",
       "      <td>10</td>\n",
       "      <td>243_children_unicef_families_app</td>\n",
       "      <td>[children, unicef, families, app, million, str...</td>\n",
       "      <td>[The article discusses how violence and insecu...</td>\n",
       "    </tr>\n",
       "    <tr>\n",
       "      <th>245</th>\n",
       "      <td>244</td>\n",
       "      <td>10</td>\n",
       "      <td>244_issues_outstanding_border_omer</td>\n",
       "      <td>[issues, outstanding, border, omer, two, union...</td>\n",
       "      <td>[The article discusses the upcoming meeting be...</td>\n",
       "    </tr>\n",
       "  </tbody>\n",
       "</table>\n",
       "<p>246 rows × 5 columns</p>\n",
       "</div>"
      ],
      "text/plain": [
       "     Topic  Count                                    Name  \\\n",
       "0       -1   6559                        -1_the_and_of_to   \n",
       "1        0    377               0_food_wfp_million_hunger   \n",
       "2        1    355             1_kiir_his_author_president   \n",
       "3        2    331            2_abyei_referendum_ngok_area   \n",
       "4        3    227      3_million_aid_humanitarian_funding   \n",
       "..     ...    ...                                     ...   \n",
       "241    240     10          240_kalaazar_disease_azar_kala   \n",
       "242    241     10  241_refugees_batil_hygiene_respiratory   \n",
       "243    242     10     242_comic_defections_conflict_salva   \n",
       "244    243     10        243_children_unicef_families_app   \n",
       "245    244     10      244_issues_outstanding_border_omer   \n",
       "\n",
       "                                        Representation  \\\n",
       "0    [the, and, of, to, in, south, sudan, article, ...   \n",
       "1    [food, wfp, million, hunger, people, famine, a...   \n",
       "2    [kiir, his, author, president, salva, kiirs, c...   \n",
       "3    [abyei, referendum, ngok, area, misseriya, din...   \n",
       "4    [million, aid, humanitarian, funding, people, ...   \n",
       "..                                                 ...   \n",
       "241  [kalaazar, disease, azar, kala, flies, cases, ...   \n",
       "242  [refugees, batil, hygiene, respiratory, nile, ...   \n",
       "243  [comic, defections, conflict, salva, political...   \n",
       "244  [children, unicef, families, app, million, str...   \n",
       "245  [issues, outstanding, border, omer, two, union...   \n",
       "\n",
       "                                   Representative_Docs  \n",
       "0    [The article discusses the United States' deep...  \n",
       "1    [The article discusses how USAID has provided ...  \n",
       "2    [The article discusses the political crisis in...  \n",
       "3    [The article discusses the African Union Peace...  \n",
       "4    [The article discusses the US President author...  \n",
       "..                                                 ...  \n",
       "241  [The article discusses the outbreak of Kala-az...  \n",
       "242  [The article discusses the alarming health sit...  \n",
       "243  [The article discusses the ongoing conflict be...  \n",
       "244  [The article discusses how violence and insecu...  \n",
       "245  [The article discusses the upcoming meeting be...  \n",
       "\n",
       "[246 rows x 5 columns]"
      ]
     },
     "execution_count": 31,
     "metadata": {},
     "output_type": "execute_result"
    }
   ],
   "source": [
    "bertopic_standard.get_topic_info()"
   ]
  },
  {
   "cell_type": "markdown",
   "metadata": {
    "collapsed": false,
    "jupyter": {
     "outputs_hidden": false
    },
    "pycharm": {
     "name": "#%% md\n"
    }
   },
   "source": [
    "## PCA dimensionality reduction"
   ]
  },
  {
   "cell_type": "code",
   "execution_count": 84,
   "metadata": {
    "collapsed": false,
    "jupyter": {
     "outputs_hidden": false
    },
    "pycharm": {
     "name": "#%%\n"
    }
   },
   "outputs": [
    {
     "data": {
      "application/vnd.jupyter.widget-view+json": {
       "model_id": "b57631fb99c845b494c6e8c3633f753a",
       "version_major": 2,
       "version_minor": 0
      },
      "text/plain": [
       "Batches:   0%|          | 0/579 [00:00<?, ?it/s]"
      ]
     },
     "metadata": {},
     "output_type": "display_data"
    },
    {
     "name": "stderr",
     "output_type": "stream",
     "text": [
      "2023-09-21 18:51:13,619 - BERTopic - Transformed documents to Embeddings\n",
      "2023-09-21 18:51:14,513 - BERTopic - Reduced dimensionality\n",
      "2023-09-21 18:56:39,030 - BERTopic - Clustered reduced embeddings\n"
     ]
    },
    {
     "data": {
      "text/html": [
       "<div>\n",
       "<style scoped>\n",
       "    .dataframe tbody tr th:only-of-type {\n",
       "        vertical-align: middle;\n",
       "    }\n",
       "\n",
       "    .dataframe tbody tr th {\n",
       "        vertical-align: top;\n",
       "    }\n",
       "\n",
       "    .dataframe thead th {\n",
       "        text-align: right;\n",
       "    }\n",
       "</style>\n",
       "<table border=\"1\" class=\"dataframe\">\n",
       "  <thead>\n",
       "    <tr style=\"text-align: right;\">\n",
       "      <th></th>\n",
       "      <th>Topic</th>\n",
       "      <th>Count</th>\n",
       "      <th>Name</th>\n",
       "      <th>Representation</th>\n",
       "      <th>Representative_Docs</th>\n",
       "    </tr>\n",
       "  </thead>\n",
       "  <tbody>\n",
       "    <tr>\n",
       "      <th>0</th>\n",
       "      <td>-1</td>\n",
       "      <td>5662</td>\n",
       "      <td>-1_the_and_of_to</td>\n",
       "      <td>[the, and, of, to, in, south, article, for, di...</td>\n",
       "      <td>[The article discusses the appeal made by memb...</td>\n",
       "    </tr>\n",
       "    <tr>\n",
       "      <th>1</th>\n",
       "      <td>0</td>\n",
       "      <td>12818</td>\n",
       "      <td>0_the_and_of_to</td>\n",
       "      <td>[the, and, of, to, in, south, sudan, article, ...</td>\n",
       "      <td>[The article discusses the tensions between Su...</td>\n",
       "    </tr>\n",
       "    <tr>\n",
       "      <th>2</th>\n",
       "      <td>1</td>\n",
       "      <td>40</td>\n",
       "      <td>1_the_in_football_south</td>\n",
       "      <td>[the, in, football, south, cup, sudan, and, of...</td>\n",
       "      <td>[The article discusses South Sudan's national ...</td>\n",
       "    </tr>\n",
       "  </tbody>\n",
       "</table>\n",
       "</div>"
      ],
      "text/plain": [
       "   Topic  Count                     Name  \\\n",
       "0     -1   5662         -1_the_and_of_to   \n",
       "1      0  12818          0_the_and_of_to   \n",
       "2      1     40  1_the_in_football_south   \n",
       "\n",
       "                                      Representation  \\\n",
       "0  [the, and, of, to, in, south, article, for, di...   \n",
       "1  [the, and, of, to, in, south, sudan, article, ...   \n",
       "2  [the, in, football, south, cup, sudan, and, of...   \n",
       "\n",
       "                                 Representative_Docs  \n",
       "0  [The article discusses the appeal made by memb...  \n",
       "1  [The article discusses the tensions between Su...  \n",
       "2  [The article discusses South Sudan's national ...  "
      ]
     },
     "execution_count": 84,
     "metadata": {},
     "output_type": "execute_result"
    }
   ],
   "source": [
    "from sklearn.decomposition import PCA\n",
    "pca_model = PCA(random_state=42, n_components=300)\n",
    "\n",
    "#if os.path.exists('southsudan_model3'):\n",
    "#    bertopic_PCA = BERTopic.load('southsudan_model3')\n",
    "#else:\n",
    "bertopic_PCA = BERTopic(language=\"english\", calculate_probabilities=True, verbose=True, umap_model=pca_model)\n",
    "bertopic_PCA.fit_transform(docs)\n",
    "bertopic_PCA.save(\"southsudan_model3\")\n",
    "\n",
    "bertopic_PCA.get_topic_info()"
   ]
  },
  {
   "cell_type": "markdown",
   "metadata": {
    "collapsed": false,
    "jupyter": {
     "outputs_hidden": false
    },
    "pycharm": {
     "name": "#%% md\n"
    }
   },
   "source": [
    "## KMeans clustering"
   ]
  },
  {
   "cell_type": "code",
   "execution_count": 63,
   "metadata": {
    "collapsed": false,
    "jupyter": {
     "outputs_hidden": false
    },
    "pycharm": {
     "name": "#%%\n"
    }
   },
   "outputs": [
    {
     "data": {
      "application/vnd.jupyter.widget-view+json": {
       "model_id": "31a2f3729124419587f8b3d6327971ae",
       "version_major": 2,
       "version_minor": 0
      },
      "text/plain": [
       "Batches:   0%|          | 0/579 [00:00<?, ?it/s]"
      ]
     },
     "metadata": {},
     "output_type": "display_data"
    },
    {
     "name": "stderr",
     "output_type": "stream",
     "text": [
      "2023-09-21 16:40:42,505 - BERTopic - Transformed documents to Embeddings\n",
      "2023-09-21 16:40:54,157 - BERTopic - Reduced dimensionality\n",
      "2023-09-21 16:40:57,901 - BERTopic - Clustered reduced embeddings\n"
     ]
    },
    {
     "data": {
      "text/html": [
       "<div>\n",
       "<style scoped>\n",
       "    .dataframe tbody tr th:only-of-type {\n",
       "        vertical-align: middle;\n",
       "    }\n",
       "\n",
       "    .dataframe tbody tr th {\n",
       "        vertical-align: top;\n",
       "    }\n",
       "\n",
       "    .dataframe thead th {\n",
       "        text-align: right;\n",
       "    }\n",
       "</style>\n",
       "<table border=\"1\" class=\"dataframe\">\n",
       "  <thead>\n",
       "    <tr style=\"text-align: right;\">\n",
       "      <th></th>\n",
       "      <th>Topic</th>\n",
       "      <th>Count</th>\n",
       "      <th>Name</th>\n",
       "      <th>Representation</th>\n",
       "      <th>Representative_Docs</th>\n",
       "    </tr>\n",
       "  </thead>\n",
       "  <tbody>\n",
       "    <tr>\n",
       "      <th>0</th>\n",
       "      <td>0</td>\n",
       "      <td>177</td>\n",
       "      <td>0_border_zone_buffer_demilitarized</td>\n",
       "      <td>[border, zone, buffer, demilitarized, agreemen...</td>\n",
       "      <td>[The article discusses South Sudan's willingne...</td>\n",
       "    </tr>\n",
       "    <tr>\n",
       "      <th>1</th>\n",
       "      <td>1</td>\n",
       "      <td>161</td>\n",
       "      <td>1_lakes_rumbek_dhuol_governor</td>\n",
       "      <td>[lakes, rumbek, dhuol, governor, chut, matur, ...</td>\n",
       "      <td>[The article discusses the death of Colonel Yo...</td>\n",
       "    </tr>\n",
       "    <tr>\n",
       "      <th>2</th>\n",
       "      <td>2</td>\n",
       "      <td>159</td>\n",
       "      <td>2_church_churches_bishop_pope</td>\n",
       "      <td>[church, churches, bishop, pope, archbishop, a...</td>\n",
       "      <td>[The article discusses church leaders in South...</td>\n",
       "    </tr>\n",
       "    <tr>\n",
       "      <th>3</th>\n",
       "      <td>3</td>\n",
       "      <td>157</td>\n",
       "      <td>3_children_child_soldiers_unicef</td>\n",
       "      <td>[children, child, soldiers, unicef, recruitmen...</td>\n",
       "      <td>[The article discusses the United Nations Spec...</td>\n",
       "    </tr>\n",
       "    <tr>\n",
       "      <th>4</th>\n",
       "      <td>4</td>\n",
       "      <td>154</td>\n",
       "      <td>4_igad_talks_intergovernmental_authority</td>\n",
       "      <td>[igad, talks, intergovernmental, authority, pa...</td>\n",
       "      <td>[The article discusses the crucial role of sta...</td>\n",
       "    </tr>\n",
       "    <tr>\n",
       "      <th>...</th>\n",
       "      <td>...</td>\n",
       "      <td>...</td>\n",
       "      <td>...</td>\n",
       "      <td>...</td>\n",
       "      <td>...</td>\n",
       "    </tr>\n",
       "    <tr>\n",
       "      <th>245</th>\n",
       "      <td>245</td>\n",
       "      <td>20</td>\n",
       "      <td>245_ibrahim_labour_meriam_apostasy</td>\n",
       "      <td>[ibrahim, labour, meriam, apostasy, ilo, adult...</td>\n",
       "      <td>[The article discusses the United Nations huma...</td>\n",
       "    </tr>\n",
       "    <tr>\n",
       "      <th>246</th>\n",
       "      <td>246</td>\n",
       "      <td>16</td>\n",
       "      <td>246_telar_ring_deng_vetting</td>\n",
       "      <td>[telar, ring, deng, vetting, justice, nla, den...</td>\n",
       "      <td>[The article discusses the rejection of Telar ...</td>\n",
       "    </tr>\n",
       "    <tr>\n",
       "      <th>247</th>\n",
       "      <td>247</td>\n",
       "      <td>16</td>\n",
       "      <td>247_wildlife_poaching_park_conservation</td>\n",
       "      <td>[wildlife, poaching, park, conservation, eleph...</td>\n",
       "      <td>[The article discusses the increase in wildlif...</td>\n",
       "    </tr>\n",
       "    <tr>\n",
       "      <th>248</th>\n",
       "      <td>248</td>\n",
       "      <td>15</td>\n",
       "      <td>248_54th_member_ceremony_admission</td>\n",
       "      <td>[54th, member, ceremony, admission, au, flag, ...</td>\n",
       "      <td>[The article discusses the official membership...</td>\n",
       "    </tr>\n",
       "    <tr>\n",
       "      <th>249</th>\n",
       "      <td>249</td>\n",
       "      <td>15</td>\n",
       "      <td>249_vaccine_doses_vaccines_astrazeneca</td>\n",
       "      <td>[vaccine, doses, vaccines, astrazeneca, covax,...</td>\n",
       "      <td>[The article discusses the arrival of 132,000 ...</td>\n",
       "    </tr>\n",
       "  </tbody>\n",
       "</table>\n",
       "<p>250 rows × 5 columns</p>\n",
       "</div>"
      ],
      "text/plain": [
       "     Topic  Count                                      Name  \\\n",
       "0        0    177        0_border_zone_buffer_demilitarized   \n",
       "1        1    161             1_lakes_rumbek_dhuol_governor   \n",
       "2        2    159             2_church_churches_bishop_pope   \n",
       "3        3    157          3_children_child_soldiers_unicef   \n",
       "4        4    154  4_igad_talks_intergovernmental_authority   \n",
       "..     ...    ...                                       ...   \n",
       "245    245     20        245_ibrahim_labour_meriam_apostasy   \n",
       "246    246     16               246_telar_ring_deng_vetting   \n",
       "247    247     16   247_wildlife_poaching_park_conservation   \n",
       "248    248     15        248_54th_member_ceremony_admission   \n",
       "249    249     15    249_vaccine_doses_vaccines_astrazeneca   \n",
       "\n",
       "                                        Representation  \\\n",
       "0    [border, zone, buffer, demilitarized, agreemen...   \n",
       "1    [lakes, rumbek, dhuol, governor, chut, matur, ...   \n",
       "2    [church, churches, bishop, pope, archbishop, a...   \n",
       "3    [children, child, soldiers, unicef, recruitmen...   \n",
       "4    [igad, talks, intergovernmental, authority, pa...   \n",
       "..                                                 ...   \n",
       "245  [ibrahim, labour, meriam, apostasy, ilo, adult...   \n",
       "246  [telar, ring, deng, vetting, justice, nla, den...   \n",
       "247  [wildlife, poaching, park, conservation, eleph...   \n",
       "248  [54th, member, ceremony, admission, au, flag, ...   \n",
       "249  [vaccine, doses, vaccines, astrazeneca, covax,...   \n",
       "\n",
       "                                   Representative_Docs  \n",
       "0    [The article discusses South Sudan's willingne...  \n",
       "1    [The article discusses the death of Colonel Yo...  \n",
       "2    [The article discusses church leaders in South...  \n",
       "3    [The article discusses the United Nations Spec...  \n",
       "4    [The article discusses the crucial role of sta...  \n",
       "..                                                 ...  \n",
       "245  [The article discusses the United Nations huma...  \n",
       "246  [The article discusses the rejection of Telar ...  \n",
       "247  [The article discusses the increase in wildlif...  \n",
       "248  [The article discusses the official membership...  \n",
       "249  [The article discusses the arrival of 132,000 ...  \n",
       "\n",
       "[250 rows x 5 columns]"
      ]
     },
     "execution_count": 63,
     "metadata": {},
     "output_type": "execute_result"
    }
   ],
   "source": [
    "from sklearn.cluster import KMeans\n",
    "kmeans_model = KMeans(n_clusters=250, random_state=42)\n",
    "\n",
    "if os.path.exists('southsudan_model4'):\n",
    "    bertopic_KM = BERTopic.load('southsudan_model4')\n",
    "else:\n",
    "    bertopic_KM = BERTopic(language=\"english\", calculate_probabilities=True, verbose=True, umap_model=umap_model, hdbscan_model=kmeans_model)\n",
    "    bertopic_KM.fit_transform(docs)\n",
    "    bertopic_KM.save(\"southsudan_model4\")\n",
    "\n",
    "bertopic_KM.get_topic_info()"
   ]
  },
  {
   "cell_type": "markdown",
   "metadata": {
    "collapsed": false,
    "jupyter": {
     "outputs_hidden": false
    },
    "pycharm": {
     "name": "#%% md\n"
    }
   },
   "source": [
    "## PCA with KMeans"
   ]
  },
  {
   "cell_type": "code",
   "execution_count": 36,
   "metadata": {
    "collapsed": false,
    "jupyter": {
     "outputs_hidden": false
    },
    "pycharm": {
     "name": "#%%\n"
    }
   },
   "outputs": [
    {
     "data": {
      "text/html": [
       "<div>\n",
       "<style scoped>\n",
       "    .dataframe tbody tr th:only-of-type {\n",
       "        vertical-align: middle;\n",
       "    }\n",
       "\n",
       "    .dataframe tbody tr th {\n",
       "        vertical-align: top;\n",
       "    }\n",
       "\n",
       "    .dataframe thead th {\n",
       "        text-align: right;\n",
       "    }\n",
       "</style>\n",
       "<table border=\"1\" class=\"dataframe\">\n",
       "  <thead>\n",
       "    <tr style=\"text-align: right;\">\n",
       "      <th></th>\n",
       "      <th>Topic</th>\n",
       "      <th>Count</th>\n",
       "      <th>Name</th>\n",
       "      <th>Representation</th>\n",
       "      <th>Representative_Docs</th>\n",
       "    </tr>\n",
       "  </thead>\n",
       "  <tbody>\n",
       "    <tr>\n",
       "      <th>0</th>\n",
       "      <td>0</td>\n",
       "      <td>1794</td>\n",
       "      <td>0_the_peace_and_of</td>\n",
       "      <td>[the, peace, and, of, to, in, south, sudan, fo...</td>\n",
       "      <td>[The article discusses the signing of a secess...</td>\n",
       "    </tr>\n",
       "    <tr>\n",
       "      <th>1</th>\n",
       "      <td>1</td>\n",
       "      <td>1625</td>\n",
       "      <td>1_the_president_kiir_of</td>\n",
       "      <td>[the, president, kiir, of, and, to, machar, sa...</td>\n",
       "      <td>[The article discusses the direct peace talks ...</td>\n",
       "    </tr>\n",
       "    <tr>\n",
       "      <th>2</th>\n",
       "      <td>2</td>\n",
       "      <td>1453</td>\n",
       "      <td>2_the_of_and_article</td>\n",
       "      <td>[the, of, and, article, south, to, in, sudan, ...</td>\n",
       "      <td>[The article discusses the origins and consequ...</td>\n",
       "    </tr>\n",
       "    <tr>\n",
       "      <th>3</th>\n",
       "      <td>3</td>\n",
       "      <td>1403</td>\n",
       "      <td>3_the_in_of_and</td>\n",
       "      <td>[the, in, of, and, to, state, south, sudan, ar...</td>\n",
       "      <td>[The article discusses heavy fighting between ...</td>\n",
       "    </tr>\n",
       "    <tr>\n",
       "      <th>4</th>\n",
       "      <td>4</td>\n",
       "      <td>1387</td>\n",
       "      <td>4_the_of_and_in</td>\n",
       "      <td>[the, of, and, in, to, south, article, for, di...</td>\n",
       "      <td>[The article discusses the detention of Sudan ...</td>\n",
       "    </tr>\n",
       "    <tr>\n",
       "      <th>5</th>\n",
       "      <td>5</td>\n",
       "      <td>1351</td>\n",
       "      <td>5_the_and_to_of</td>\n",
       "      <td>[the, and, to, of, in, south, sudan, for, arti...</td>\n",
       "      <td>[The article discusses Kenya's support for Sou...</td>\n",
       "    </tr>\n",
       "    <tr>\n",
       "      <th>6</th>\n",
       "      <td>6</td>\n",
       "      <td>1328</td>\n",
       "      <td>6_and_to_the_food</td>\n",
       "      <td>[and, to, the, food, in, of, people, million, ...</td>\n",
       "      <td>[The article discusses the humanitarian crises...</td>\n",
       "    </tr>\n",
       "    <tr>\n",
       "      <th>7</th>\n",
       "      <td>7</td>\n",
       "      <td>1259</td>\n",
       "      <td>7_the_sudan_and_abyei</td>\n",
       "      <td>[the, sudan, and, abyei, of, to, south, betwee...</td>\n",
       "      <td>[The article discusses the resumption of talks...</td>\n",
       "    </tr>\n",
       "    <tr>\n",
       "      <th>8</th>\n",
       "      <td>8</td>\n",
       "      <td>1226</td>\n",
       "      <td>8_the_and_of_sudan</td>\n",
       "      <td>[the, and, of, sudan, to, south, president, in...</td>\n",
       "      <td>[The article discusses a meeting between the V...</td>\n",
       "    </tr>\n",
       "    <tr>\n",
       "      <th>9</th>\n",
       "      <td>9</td>\n",
       "      <td>1183</td>\n",
       "      <td>9_the_and_of_in</td>\n",
       "      <td>[the, and, of, in, to, rights, human, south, s...</td>\n",
       "      <td>[The article discusses a letter addressed to P...</td>\n",
       "    </tr>\n",
       "    <tr>\n",
       "      <th>10</th>\n",
       "      <td>10</td>\n",
       "      <td>1098</td>\n",
       "      <td>10_refugees_the_in_to</td>\n",
       "      <td>[refugees, the, in, to, and, of, south, are, s...</td>\n",
       "      <td>[The article discusses the US President author...</td>\n",
       "    </tr>\n",
       "    <tr>\n",
       "      <th>11</th>\n",
       "      <td>11</td>\n",
       "      <td>1036</td>\n",
       "      <td>11_the_in_and_of</td>\n",
       "      <td>[the, in, and, of, to, south, education, for, ...</td>\n",
       "      <td>[The article discusses South Sudan's plan to b...</td>\n",
       "    </tr>\n",
       "    <tr>\n",
       "      <th>12</th>\n",
       "      <td>12</td>\n",
       "      <td>925</td>\n",
       "      <td>12_oil_sudan_the_south</td>\n",
       "      <td>[oil, sudan, the, south, to, of, and, sudans, ...</td>\n",
       "      <td>[The article discusses the failed negotiations...</td>\n",
       "    </tr>\n",
       "    <tr>\n",
       "      <th>13</th>\n",
       "      <td>13</td>\n",
       "      <td>827</td>\n",
       "      <td>13_the_in_to_and</td>\n",
       "      <td>[the, in, to, and, of, un, south, sudan, artic...</td>\n",
       "      <td>[The article discusses the briefing of South S...</td>\n",
       "    </tr>\n",
       "    <tr>\n",
       "      <th>14</th>\n",
       "      <td>14</td>\n",
       "      <td>625</td>\n",
       "      <td>14_the_of_and_in</td>\n",
       "      <td>[the, of, and, in, to, state, article, discuss...</td>\n",
       "      <td>[The article discusses the caretaker governor ...</td>\n",
       "    </tr>\n",
       "  </tbody>\n",
       "</table>\n",
       "</div>"
      ],
      "text/plain": [
       "    Topic  Count                     Name  \\\n",
       "0       0   1794       0_the_peace_and_of   \n",
       "1       1   1625  1_the_president_kiir_of   \n",
       "2       2   1453     2_the_of_and_article   \n",
       "3       3   1403          3_the_in_of_and   \n",
       "4       4   1387          4_the_of_and_in   \n",
       "5       5   1351          5_the_and_to_of   \n",
       "6       6   1328        6_and_to_the_food   \n",
       "7       7   1259    7_the_sudan_and_abyei   \n",
       "8       8   1226       8_the_and_of_sudan   \n",
       "9       9   1183          9_the_and_of_in   \n",
       "10     10   1098    10_refugees_the_in_to   \n",
       "11     11   1036         11_the_in_and_of   \n",
       "12     12    925   12_oil_sudan_the_south   \n",
       "13     13    827         13_the_in_to_and   \n",
       "14     14    625         14_the_of_and_in   \n",
       "\n",
       "                                       Representation  \\\n",
       "0   [the, peace, and, of, to, in, south, sudan, fo...   \n",
       "1   [the, president, kiir, of, and, to, machar, sa...   \n",
       "2   [the, of, and, article, south, to, in, sudan, ...   \n",
       "3   [the, in, of, and, to, state, south, sudan, ar...   \n",
       "4   [the, of, and, in, to, south, article, for, di...   \n",
       "5   [the, and, to, of, in, south, sudan, for, arti...   \n",
       "6   [and, to, the, food, in, of, people, million, ...   \n",
       "7   [the, sudan, and, abyei, of, to, south, betwee...   \n",
       "8   [the, and, of, sudan, to, south, president, in...   \n",
       "9   [the, and, of, in, to, rights, human, south, s...   \n",
       "10  [refugees, the, in, to, and, of, south, are, s...   \n",
       "11  [the, in, and, of, to, south, education, for, ...   \n",
       "12  [oil, sudan, the, south, to, of, and, sudans, ...   \n",
       "13  [the, in, to, and, of, un, south, sudan, artic...   \n",
       "14  [the, of, and, in, to, state, article, discuss...   \n",
       "\n",
       "                                  Representative_Docs  \n",
       "0   [The article discusses the signing of a secess...  \n",
       "1   [The article discusses the direct peace talks ...  \n",
       "2   [The article discusses the origins and consequ...  \n",
       "3   [The article discusses heavy fighting between ...  \n",
       "4   [The article discusses the detention of Sudan ...  \n",
       "5   [The article discusses Kenya's support for Sou...  \n",
       "6   [The article discusses the humanitarian crises...  \n",
       "7   [The article discusses the resumption of talks...  \n",
       "8   [The article discusses a meeting between the V...  \n",
       "9   [The article discusses a letter addressed to P...  \n",
       "10  [The article discusses the US President author...  \n",
       "11  [The article discusses South Sudan's plan to b...  \n",
       "12  [The article discusses the failed negotiations...  \n",
       "13  [The article discusses the briefing of South S...  \n",
       "14  [The article discusses the caretaker governor ...  "
      ]
     },
     "execution_count": 36,
     "metadata": {},
     "output_type": "execute_result"
    }
   ],
   "source": [
    "pca_model = PCA(random_state=42, n_components=50)\n",
    "kmeans_model = KMeans(n_clusters=50, random_state=42)\n",
    "\n",
    "if os.path.exists('southsudan_model5'):\n",
    "    bertopic_PCA_KM = BERTopic.load('southsudan_model5')\n",
    "else:\n",
    "    bertopic_PCA_KM = BERTopic(language=\"english\", calculate_probabilities=True, verbose=True, umap_model=pca_model, hdbscan_model=kmeans_model)\n",
    "    bertopic_PCA_KM.fit_transform(docs)\n",
    "    bertopic_PCA_KM.save(\"southsudan_model5\")\n",
    "\n",
    "bertopic_PCA_KM.get_topic_info()"
   ]
  },
  {
   "cell_type": "markdown",
   "metadata": {
    "collapsed": false,
    "jupyter": {
     "outputs_hidden": false
    },
    "pycharm": {
     "name": "#%% md\n"
    }
   },
   "source": [
    "## change the range of n-grams"
   ]
  },
  {
   "cell_type": "code",
   "execution_count": 37,
   "metadata": {
    "collapsed": false,
    "jupyter": {
     "outputs_hidden": false
    },
    "pycharm": {
     "name": "#%%\n"
    }
   },
   "outputs": [
    {
     "data": {
      "text/html": [
       "<div>\n",
       "<style scoped>\n",
       "    .dataframe tbody tr th:only-of-type {\n",
       "        vertical-align: middle;\n",
       "    }\n",
       "\n",
       "    .dataframe tbody tr th {\n",
       "        vertical-align: top;\n",
       "    }\n",
       "\n",
       "    .dataframe thead th {\n",
       "        text-align: right;\n",
       "    }\n",
       "</style>\n",
       "<table border=\"1\" class=\"dataframe\">\n",
       "  <thead>\n",
       "    <tr style=\"text-align: right;\">\n",
       "      <th></th>\n",
       "      <th>Topic</th>\n",
       "      <th>Count</th>\n",
       "      <th>Name</th>\n",
       "      <th>Representation</th>\n",
       "      <th>Representative_Docs</th>\n",
       "    </tr>\n",
       "  </thead>\n",
       "  <tbody>\n",
       "    <tr>\n",
       "      <th>0</th>\n",
       "      <td>-1</td>\n",
       "      <td>6559</td>\n",
       "      <td>-1_the_and_of_to</td>\n",
       "      <td>[the, and, of, to, in, south, sudan, article, ...</td>\n",
       "      <td>[The article discusses the briefing given by U...</td>\n",
       "    </tr>\n",
       "    <tr>\n",
       "      <th>1</th>\n",
       "      <td>0</td>\n",
       "      <td>377</td>\n",
       "      <td>0_food_wfp_million_people</td>\n",
       "      <td>[food, wfp, million, people, million people, w...</td>\n",
       "      <td>[The article discusses how USAID has provided ...</td>\n",
       "    </tr>\n",
       "    <tr>\n",
       "      <th>2</th>\n",
       "      <td>1</td>\n",
       "      <td>355</td>\n",
       "      <td>1_kiir_his_president_salva</td>\n",
       "      <td>[kiir, his, president, salva, the author, auth...</td>\n",
       "      <td>[The article discusses the political conflict ...</td>\n",
       "    </tr>\n",
       "    <tr>\n",
       "      <th>3</th>\n",
       "      <td>2</td>\n",
       "      <td>331</td>\n",
       "      <td>2_abyei_referendum_of abyei_area</td>\n",
       "      <td>[abyei, referendum, of abyei, area, the abyei,...</td>\n",
       "      <td>[The article discusses the unilateral vote hel...</td>\n",
       "    </tr>\n",
       "    <tr>\n",
       "      <th>4</th>\n",
       "      <td>3</td>\n",
       "      <td>227</td>\n",
       "      <td>3_million_aid_humanitarian_people</td>\n",
       "      <td>[million, aid, humanitarian, people, assistanc...</td>\n",
       "      <td>[The article discusses the US President author...</td>\n",
       "    </tr>\n",
       "    <tr>\n",
       "      <th>...</th>\n",
       "      <td>...</td>\n",
       "      <td>...</td>\n",
       "      <td>...</td>\n",
       "      <td>...</td>\n",
       "      <td>...</td>\n",
       "    </tr>\n",
       "    <tr>\n",
       "      <th>241</th>\n",
       "      <td>240</td>\n",
       "      <td>10</td>\n",
       "      <td>240_kalaazar_disease_the disease_azar</td>\n",
       "      <td>[kalaazar, disease, the disease, azar, kala az...</td>\n",
       "      <td>[The article discusses the potential widesprea...</td>\n",
       "    </tr>\n",
       "    <tr>\n",
       "      <th>242</th>\n",
       "      <td>241</td>\n",
       "      <td>10</td>\n",
       "      <td>241_refugees_nile_hygiene_the refugees</td>\n",
       "      <td>[refugees, nile, hygiene, the refugees, upper ...</td>\n",
       "      <td>[The article discusses the alarming health sit...</td>\n",
       "    </tr>\n",
       "    <tr>\n",
       "      <th>243</th>\n",
       "      <td>242</td>\n",
       "      <td>10</td>\n",
       "      <td>242_comic_defections_the conflict_the defections</td>\n",
       "      <td>[comic, defections, the conflict, the defectio...</td>\n",
       "      <td>[The article discusses the ongoing conflict be...</td>\n",
       "    </tr>\n",
       "    <tr>\n",
       "      <th>244</th>\n",
       "      <td>243</td>\n",
       "      <td>10</td>\n",
       "      <td>243_children_unicef_of children_children in south</td>\n",
       "      <td>[children, unicef, of children, children in so...</td>\n",
       "      <td>[The article discusses the warning from the UN...</td>\n",
       "    </tr>\n",
       "    <tr>\n",
       "      <th>245</th>\n",
       "      <td>244</td>\n",
       "      <td>10</td>\n",
       "      <td>244_issues_outstanding issues_border_outstanding</td>\n",
       "      <td>[issues, outstanding issues, border, outstandi...</td>\n",
       "      <td>[The article discusses the need for a comprehe...</td>\n",
       "    </tr>\n",
       "  </tbody>\n",
       "</table>\n",
       "<p>246 rows × 5 columns</p>\n",
       "</div>"
      ],
      "text/plain": [
       "     Topic  Count                                               Name  \\\n",
       "0       -1   6559                                   -1_the_and_of_to   \n",
       "1        0    377                          0_food_wfp_million_people   \n",
       "2        1    355                         1_kiir_his_president_salva   \n",
       "3        2    331                   2_abyei_referendum_of abyei_area   \n",
       "4        3    227                  3_million_aid_humanitarian_people   \n",
       "..     ...    ...                                                ...   \n",
       "241    240     10              240_kalaazar_disease_the disease_azar   \n",
       "242    241     10             241_refugees_nile_hygiene_the refugees   \n",
       "243    242     10   242_comic_defections_the conflict_the defections   \n",
       "244    243     10  243_children_unicef_of children_children in south   \n",
       "245    244     10   244_issues_outstanding issues_border_outstanding   \n",
       "\n",
       "                                        Representation  \\\n",
       "0    [the, and, of, to, in, south, sudan, article, ...   \n",
       "1    [food, wfp, million, people, million people, w...   \n",
       "2    [kiir, his, president, salva, the author, auth...   \n",
       "3    [abyei, referendum, of abyei, area, the abyei,...   \n",
       "4    [million, aid, humanitarian, people, assistanc...   \n",
       "..                                                 ...   \n",
       "241  [kalaazar, disease, the disease, azar, kala az...   \n",
       "242  [refugees, nile, hygiene, the refugees, upper ...   \n",
       "243  [comic, defections, the conflict, the defectio...   \n",
       "244  [children, unicef, of children, children in so...   \n",
       "245  [issues, outstanding issues, border, outstandi...   \n",
       "\n",
       "                                   Representative_Docs  \n",
       "0    [The article discusses the briefing given by U...  \n",
       "1    [The article discusses how USAID has provided ...  \n",
       "2    [The article discusses the political conflict ...  \n",
       "3    [The article discusses the unilateral vote hel...  \n",
       "4    [The article discusses the US President author...  \n",
       "..                                                 ...  \n",
       "241  [The article discusses the potential widesprea...  \n",
       "242  [The article discusses the alarming health sit...  \n",
       "243  [The article discusses the ongoing conflict be...  \n",
       "244  [The article discusses the warning from the UN...  \n",
       "245  [The article discusses the need for a comprehe...  \n",
       "\n",
       "[246 rows x 5 columns]"
      ]
     },
     "execution_count": 37,
     "metadata": {},
     "output_type": "execute_result"
    }
   ],
   "source": [
    "if os.path.exists('southsudan_model6'):\n",
    "    bertopic_NG = BERTopic.load('southsudan_model6')\n",
    "else:\n",
    "    bertopic_NG = BERTopic(language=\"english\", calculate_probabilities=True, verbose=True, umap_model=umap_model, n_gram_range=(1, 3))\n",
    "    bertopic_NG.fit_transform(docs)\n",
    "    bertopic_NG.save(\"southsudan_model6\")\n",
    "\n",
    "bertopic_NG.get_topic_info()"
   ]
  },
  {
   "cell_type": "markdown",
   "metadata": {
    "collapsed": false,
    "jupyter": {
     "outputs_hidden": false
    },
    "pycharm": {
     "name": "#%% md\n"
    }
   },
   "source": [
    "## PCA and n-gram"
   ]
  },
  {
   "cell_type": "code",
   "execution_count": 79,
   "metadata": {
    "collapsed": false,
    "jupyter": {
     "outputs_hidden": false
    },
    "pycharm": {
     "name": "#%%\n"
    }
   },
   "outputs": [
    {
     "data": {
      "application/vnd.jupyter.widget-view+json": {
       "model_id": "6f920a98917a4376bcafe4da9ea8f7ba",
       "version_major": 2,
       "version_minor": 0
      },
      "text/plain": [
       "Batches:   0%|          | 0/579 [00:00<?, ?it/s]"
      ]
     },
     "metadata": {},
     "output_type": "display_data"
    },
    {
     "ename": "KeyboardInterrupt",
     "evalue": "",
     "output_type": "error",
     "traceback": [
      "\u001b[1;31m---------------------------------------------------------------------------\u001b[0m",
      "\u001b[1;31mKeyboardInterrupt\u001b[0m                         Traceback (most recent call last)",
      "Cell \u001b[1;32mIn[79], line 7\u001b[0m\n\u001b[0;32m      3\u001b[0m \u001b[38;5;66;03m#if os.path.exists('southsudan_model7'):\u001b[39;00m\n\u001b[0;32m      4\u001b[0m \u001b[38;5;66;03m#    bertopic_PCA_NG = BERTopic.load('southsudan_model7')\u001b[39;00m\n\u001b[0;32m      5\u001b[0m \u001b[38;5;66;03m#else:\u001b[39;00m\n\u001b[0;32m      6\u001b[0m bertopic_PCA_NG \u001b[38;5;241m=\u001b[39m BERTopic(language\u001b[38;5;241m=\u001b[39m\u001b[38;5;124m\"\u001b[39m\u001b[38;5;124menglish\u001b[39m\u001b[38;5;124m\"\u001b[39m, calculate_probabilities\u001b[38;5;241m=\u001b[39m\u001b[38;5;28;01mTrue\u001b[39;00m, verbose\u001b[38;5;241m=\u001b[39m\u001b[38;5;28;01mTrue\u001b[39;00m, umap_model\u001b[38;5;241m=\u001b[39mpca_model, n_gram_range\u001b[38;5;241m=\u001b[39m(\u001b[38;5;241m1\u001b[39m, \u001b[38;5;241m3\u001b[39m))\n\u001b[1;32m----> 7\u001b[0m \u001b[43mbertopic_PCA_NG\u001b[49m\u001b[38;5;241;43m.\u001b[39;49m\u001b[43mfit_transform\u001b[49m\u001b[43m(\u001b[49m\u001b[43mdocs\u001b[49m\u001b[43m)\u001b[49m\n\u001b[0;32m      8\u001b[0m bertopic_PCA_NG\u001b[38;5;241m.\u001b[39msave(\u001b[38;5;124m\"\u001b[39m\u001b[38;5;124msouthsudan_model7\u001b[39m\u001b[38;5;124m\"\u001b[39m)\n\u001b[0;32m     10\u001b[0m bertopic_PCA_NG\u001b[38;5;241m.\u001b[39mget_topic_info()\n",
      "File \u001b[1;32m~\\PycharmProjects\\DC3-Group21\\venv\\lib\\site-packages\\bertopic\\_bertopic.py:373\u001b[0m, in \u001b[0;36mBERTopic.fit_transform\u001b[1;34m(self, documents, embeddings, images, y)\u001b[0m\n\u001b[0;32m    370\u001b[0m \u001b[38;5;28;01mif\u001b[39;00m embeddings \u001b[38;5;129;01mis\u001b[39;00m \u001b[38;5;28;01mNone\u001b[39;00m:\n\u001b[0;32m    371\u001b[0m     \u001b[38;5;28mself\u001b[39m\u001b[38;5;241m.\u001b[39membedding_model \u001b[38;5;241m=\u001b[39m select_backend(\u001b[38;5;28mself\u001b[39m\u001b[38;5;241m.\u001b[39membedding_model,\n\u001b[0;32m    372\u001b[0m                                           language\u001b[38;5;241m=\u001b[39m\u001b[38;5;28mself\u001b[39m\u001b[38;5;241m.\u001b[39mlanguage)\n\u001b[1;32m--> 373\u001b[0m     embeddings \u001b[38;5;241m=\u001b[39m \u001b[38;5;28;43mself\u001b[39;49m\u001b[38;5;241;43m.\u001b[39;49m\u001b[43m_extract_embeddings\u001b[49m\u001b[43m(\u001b[49m\u001b[43mdocuments\u001b[49m\u001b[38;5;241;43m.\u001b[39;49m\u001b[43mDocument\u001b[49m\u001b[38;5;241;43m.\u001b[39;49m\u001b[43mvalues\u001b[49m\u001b[38;5;241;43m.\u001b[39;49m\u001b[43mtolist\u001b[49m\u001b[43m(\u001b[49m\u001b[43m)\u001b[49m\u001b[43m,\u001b[49m\n\u001b[0;32m    374\u001b[0m \u001b[43m                                          \u001b[49m\u001b[43mimages\u001b[49m\u001b[38;5;241;43m=\u001b[39;49m\u001b[43mimages\u001b[49m\u001b[43m,\u001b[49m\n\u001b[0;32m    375\u001b[0m \u001b[43m                                          \u001b[49m\u001b[43mmethod\u001b[49m\u001b[38;5;241;43m=\u001b[39;49m\u001b[38;5;124;43m\"\u001b[39;49m\u001b[38;5;124;43mdocument\u001b[39;49m\u001b[38;5;124;43m\"\u001b[39;49m\u001b[43m,\u001b[49m\n\u001b[0;32m    376\u001b[0m \u001b[43m                                          \u001b[49m\u001b[43mverbose\u001b[49m\u001b[38;5;241;43m=\u001b[39;49m\u001b[38;5;28;43mself\u001b[39;49m\u001b[38;5;241;43m.\u001b[39;49m\u001b[43mverbose\u001b[49m\u001b[43m)\u001b[49m\n\u001b[0;32m    377\u001b[0m     logger\u001b[38;5;241m.\u001b[39minfo(\u001b[38;5;124m\"\u001b[39m\u001b[38;5;124mTransformed documents to Embeddings\u001b[39m\u001b[38;5;124m\"\u001b[39m)\n\u001b[0;32m    378\u001b[0m \u001b[38;5;28;01melse\u001b[39;00m:\n",
      "File \u001b[1;32m~\\PycharmProjects\\DC3-Group21\\venv\\lib\\site-packages\\bertopic\\_bertopic.py:3126\u001b[0m, in \u001b[0;36mBERTopic._extract_embeddings\u001b[1;34m(self, documents, images, method, verbose)\u001b[0m\n\u001b[0;32m   3124\u001b[0m     embeddings \u001b[38;5;241m=\u001b[39m \u001b[38;5;28mself\u001b[39m\u001b[38;5;241m.\u001b[39membedding_model\u001b[38;5;241m.\u001b[39membed_words(words\u001b[38;5;241m=\u001b[39mdocuments, verbose\u001b[38;5;241m=\u001b[39mverbose)\n\u001b[0;32m   3125\u001b[0m \u001b[38;5;28;01melif\u001b[39;00m method \u001b[38;5;241m==\u001b[39m \u001b[38;5;124m\"\u001b[39m\u001b[38;5;124mdocument\u001b[39m\u001b[38;5;124m\"\u001b[39m:\n\u001b[1;32m-> 3126\u001b[0m     embeddings \u001b[38;5;241m=\u001b[39m \u001b[38;5;28;43mself\u001b[39;49m\u001b[38;5;241;43m.\u001b[39;49m\u001b[43membedding_model\u001b[49m\u001b[38;5;241;43m.\u001b[39;49m\u001b[43membed_documents\u001b[49m\u001b[43m(\u001b[49m\u001b[43mdocuments\u001b[49m\u001b[43m,\u001b[49m\u001b[43m \u001b[49m\u001b[43mverbose\u001b[49m\u001b[38;5;241;43m=\u001b[39;49m\u001b[43mverbose\u001b[49m\u001b[43m)\u001b[49m\n\u001b[0;32m   3127\u001b[0m \u001b[38;5;28;01melif\u001b[39;00m documents[\u001b[38;5;241m0\u001b[39m] \u001b[38;5;129;01mis\u001b[39;00m \u001b[38;5;28;01mNone\u001b[39;00m \u001b[38;5;129;01mand\u001b[39;00m images \u001b[38;5;129;01mis\u001b[39;00m \u001b[38;5;28;01mNone\u001b[39;00m:\n\u001b[0;32m   3128\u001b[0m     \u001b[38;5;28;01mraise\u001b[39;00m \u001b[38;5;167;01mValueError\u001b[39;00m(\u001b[38;5;124m\"\u001b[39m\u001b[38;5;124mMake sure to use an embedding model that can either embed documents\u001b[39m\u001b[38;5;124m\"\u001b[39m\n\u001b[0;32m   3129\u001b[0m                      \u001b[38;5;124m\"\u001b[39m\u001b[38;5;124mor images depending on which you want to embed.\u001b[39m\u001b[38;5;124m\"\u001b[39m)\n",
      "File \u001b[1;32m~\\PycharmProjects\\DC3-Group21\\venv\\lib\\site-packages\\bertopic\\backend\\_base.py:69\u001b[0m, in \u001b[0;36mBaseEmbedder.embed_documents\u001b[1;34m(self, document, verbose)\u001b[0m\n\u001b[0;32m     55\u001b[0m \u001b[38;5;28;01mdef\u001b[39;00m \u001b[38;5;21membed_documents\u001b[39m(\u001b[38;5;28mself\u001b[39m,\n\u001b[0;32m     56\u001b[0m                     document: List[\u001b[38;5;28mstr\u001b[39m],\n\u001b[0;32m     57\u001b[0m                     verbose: \u001b[38;5;28mbool\u001b[39m \u001b[38;5;241m=\u001b[39m \u001b[38;5;28;01mFalse\u001b[39;00m) \u001b[38;5;241m-\u001b[39m\u001b[38;5;241m>\u001b[39m np\u001b[38;5;241m.\u001b[39mndarray:\n\u001b[0;32m     58\u001b[0m \u001b[38;5;250m    \u001b[39m\u001b[38;5;124;03m\"\"\" Embed a list of n words into an n-dimensional\u001b[39;00m\n\u001b[0;32m     59\u001b[0m \u001b[38;5;124;03m    matrix of embeddings\u001b[39;00m\n\u001b[0;32m     60\u001b[0m \n\u001b[1;32m   (...)\u001b[0m\n\u001b[0;32m     67\u001b[0m \u001b[38;5;124;03m        that each have an embeddings size of `m`\u001b[39;00m\n\u001b[0;32m     68\u001b[0m \u001b[38;5;124;03m    \"\"\"\u001b[39;00m\n\u001b[1;32m---> 69\u001b[0m     \u001b[38;5;28;01mreturn\u001b[39;00m \u001b[38;5;28;43mself\u001b[39;49m\u001b[38;5;241;43m.\u001b[39;49m\u001b[43membed\u001b[49m\u001b[43m(\u001b[49m\u001b[43mdocument\u001b[49m\u001b[43m,\u001b[49m\u001b[43m \u001b[49m\u001b[43mverbose\u001b[49m\u001b[43m)\u001b[49m\n",
      "File \u001b[1;32m~\\PycharmProjects\\DC3-Group21\\venv\\lib\\site-packages\\bertopic\\backend\\_sentencetransformers.py:65\u001b[0m, in \u001b[0;36mSentenceTransformerBackend.embed\u001b[1;34m(self, documents, verbose)\u001b[0m\n\u001b[0;32m     51\u001b[0m \u001b[38;5;28;01mdef\u001b[39;00m \u001b[38;5;21membed\u001b[39m(\u001b[38;5;28mself\u001b[39m,\n\u001b[0;32m     52\u001b[0m           documents: List[\u001b[38;5;28mstr\u001b[39m],\n\u001b[0;32m     53\u001b[0m           verbose: \u001b[38;5;28mbool\u001b[39m \u001b[38;5;241m=\u001b[39m \u001b[38;5;28;01mFalse\u001b[39;00m) \u001b[38;5;241m-\u001b[39m\u001b[38;5;241m>\u001b[39m np\u001b[38;5;241m.\u001b[39mndarray:\n\u001b[0;32m     54\u001b[0m \u001b[38;5;250m    \u001b[39m\u001b[38;5;124;03m\"\"\" Embed a list of n documents/words into an n-dimensional\u001b[39;00m\n\u001b[0;32m     55\u001b[0m \u001b[38;5;124;03m    matrix of embeddings\u001b[39;00m\n\u001b[0;32m     56\u001b[0m \n\u001b[1;32m   (...)\u001b[0m\n\u001b[0;32m     63\u001b[0m \u001b[38;5;124;03m        that each have an embeddings size of `m`\u001b[39;00m\n\u001b[0;32m     64\u001b[0m \u001b[38;5;124;03m    \"\"\"\u001b[39;00m\n\u001b[1;32m---> 65\u001b[0m     embeddings \u001b[38;5;241m=\u001b[39m \u001b[38;5;28;43mself\u001b[39;49m\u001b[38;5;241;43m.\u001b[39;49m\u001b[43membedding_model\u001b[49m\u001b[38;5;241;43m.\u001b[39;49m\u001b[43mencode\u001b[49m\u001b[43m(\u001b[49m\u001b[43mdocuments\u001b[49m\u001b[43m,\u001b[49m\u001b[43m \u001b[49m\u001b[43mshow_progress_bar\u001b[49m\u001b[38;5;241;43m=\u001b[39;49m\u001b[43mverbose\u001b[49m\u001b[43m)\u001b[49m\n\u001b[0;32m     66\u001b[0m     \u001b[38;5;28;01mreturn\u001b[39;00m embeddings\n",
      "File \u001b[1;32m~\\PycharmProjects\\DC3-Group21\\venv\\lib\\site-packages\\sentence_transformers\\SentenceTransformer.py:165\u001b[0m, in \u001b[0;36mSentenceTransformer.encode\u001b[1;34m(self, sentences, batch_size, show_progress_bar, output_value, convert_to_numpy, convert_to_tensor, device, normalize_embeddings)\u001b[0m\n\u001b[0;32m    162\u001b[0m features \u001b[38;5;241m=\u001b[39m batch_to_device(features, device)\n\u001b[0;32m    164\u001b[0m \u001b[38;5;28;01mwith\u001b[39;00m torch\u001b[38;5;241m.\u001b[39mno_grad():\n\u001b[1;32m--> 165\u001b[0m     out_features \u001b[38;5;241m=\u001b[39m \u001b[38;5;28;43mself\u001b[39;49m\u001b[38;5;241;43m.\u001b[39;49m\u001b[43mforward\u001b[49m\u001b[43m(\u001b[49m\u001b[43mfeatures\u001b[49m\u001b[43m)\u001b[49m\n\u001b[0;32m    167\u001b[0m     \u001b[38;5;28;01mif\u001b[39;00m output_value \u001b[38;5;241m==\u001b[39m \u001b[38;5;124m'\u001b[39m\u001b[38;5;124mtoken_embeddings\u001b[39m\u001b[38;5;124m'\u001b[39m:\n\u001b[0;32m    168\u001b[0m         embeddings \u001b[38;5;241m=\u001b[39m []\n",
      "File \u001b[1;32m~\\PycharmProjects\\DC3-Group21\\venv\\lib\\site-packages\\torch\\nn\\modules\\container.py:217\u001b[0m, in \u001b[0;36mSequential.forward\u001b[1;34m(self, input)\u001b[0m\n\u001b[0;32m    215\u001b[0m \u001b[38;5;28;01mdef\u001b[39;00m \u001b[38;5;21mforward\u001b[39m(\u001b[38;5;28mself\u001b[39m, \u001b[38;5;28minput\u001b[39m):\n\u001b[0;32m    216\u001b[0m     \u001b[38;5;28;01mfor\u001b[39;00m module \u001b[38;5;129;01min\u001b[39;00m \u001b[38;5;28mself\u001b[39m:\n\u001b[1;32m--> 217\u001b[0m         \u001b[38;5;28minput\u001b[39m \u001b[38;5;241m=\u001b[39m \u001b[43mmodule\u001b[49m\u001b[43m(\u001b[49m\u001b[38;5;28;43minput\u001b[39;49m\u001b[43m)\u001b[49m\n\u001b[0;32m    218\u001b[0m     \u001b[38;5;28;01mreturn\u001b[39;00m \u001b[38;5;28minput\u001b[39m\n",
      "File \u001b[1;32m~\\PycharmProjects\\DC3-Group21\\venv\\lib\\site-packages\\torch\\nn\\modules\\module.py:1501\u001b[0m, in \u001b[0;36mModule._call_impl\u001b[1;34m(self, *args, **kwargs)\u001b[0m\n\u001b[0;32m   1496\u001b[0m \u001b[38;5;66;03m# If we don't have any hooks, we want to skip the rest of the logic in\u001b[39;00m\n\u001b[0;32m   1497\u001b[0m \u001b[38;5;66;03m# this function, and just call forward.\u001b[39;00m\n\u001b[0;32m   1498\u001b[0m \u001b[38;5;28;01mif\u001b[39;00m \u001b[38;5;129;01mnot\u001b[39;00m (\u001b[38;5;28mself\u001b[39m\u001b[38;5;241m.\u001b[39m_backward_hooks \u001b[38;5;129;01mor\u001b[39;00m \u001b[38;5;28mself\u001b[39m\u001b[38;5;241m.\u001b[39m_backward_pre_hooks \u001b[38;5;129;01mor\u001b[39;00m \u001b[38;5;28mself\u001b[39m\u001b[38;5;241m.\u001b[39m_forward_hooks \u001b[38;5;129;01mor\u001b[39;00m \u001b[38;5;28mself\u001b[39m\u001b[38;5;241m.\u001b[39m_forward_pre_hooks\n\u001b[0;32m   1499\u001b[0m         \u001b[38;5;129;01mor\u001b[39;00m _global_backward_pre_hooks \u001b[38;5;129;01mor\u001b[39;00m _global_backward_hooks\n\u001b[0;32m   1500\u001b[0m         \u001b[38;5;129;01mor\u001b[39;00m _global_forward_hooks \u001b[38;5;129;01mor\u001b[39;00m _global_forward_pre_hooks):\n\u001b[1;32m-> 1501\u001b[0m     \u001b[38;5;28;01mreturn\u001b[39;00m forward_call(\u001b[38;5;241m*\u001b[39margs, \u001b[38;5;241m*\u001b[39m\u001b[38;5;241m*\u001b[39mkwargs)\n\u001b[0;32m   1502\u001b[0m \u001b[38;5;66;03m# Do not call functions when jit is used\u001b[39;00m\n\u001b[0;32m   1503\u001b[0m full_backward_hooks, non_full_backward_hooks \u001b[38;5;241m=\u001b[39m [], []\n",
      "File \u001b[1;32m~\\PycharmProjects\\DC3-Group21\\venv\\lib\\site-packages\\sentence_transformers\\models\\Transformer.py:66\u001b[0m, in \u001b[0;36mTransformer.forward\u001b[1;34m(self, features)\u001b[0m\n\u001b[0;32m     63\u001b[0m \u001b[38;5;28;01mif\u001b[39;00m \u001b[38;5;124m'\u001b[39m\u001b[38;5;124mtoken_type_ids\u001b[39m\u001b[38;5;124m'\u001b[39m \u001b[38;5;129;01min\u001b[39;00m features:\n\u001b[0;32m     64\u001b[0m     trans_features[\u001b[38;5;124m'\u001b[39m\u001b[38;5;124mtoken_type_ids\u001b[39m\u001b[38;5;124m'\u001b[39m] \u001b[38;5;241m=\u001b[39m features[\u001b[38;5;124m'\u001b[39m\u001b[38;5;124mtoken_type_ids\u001b[39m\u001b[38;5;124m'\u001b[39m]\n\u001b[1;32m---> 66\u001b[0m output_states \u001b[38;5;241m=\u001b[39m \u001b[38;5;28mself\u001b[39m\u001b[38;5;241m.\u001b[39mauto_model(\u001b[38;5;241m*\u001b[39m\u001b[38;5;241m*\u001b[39mtrans_features, return_dict\u001b[38;5;241m=\u001b[39m\u001b[38;5;28;01mFalse\u001b[39;00m)\n\u001b[0;32m     67\u001b[0m output_tokens \u001b[38;5;241m=\u001b[39m output_states[\u001b[38;5;241m0\u001b[39m]\n\u001b[0;32m     69\u001b[0m features\u001b[38;5;241m.\u001b[39mupdate({\u001b[38;5;124m'\u001b[39m\u001b[38;5;124mtoken_embeddings\u001b[39m\u001b[38;5;124m'\u001b[39m: output_tokens, \u001b[38;5;124m'\u001b[39m\u001b[38;5;124mattention_mask\u001b[39m\u001b[38;5;124m'\u001b[39m: features[\u001b[38;5;124m'\u001b[39m\u001b[38;5;124mattention_mask\u001b[39m\u001b[38;5;124m'\u001b[39m]})\n",
      "File \u001b[1;32m~\\PycharmProjects\\DC3-Group21\\venv\\lib\\site-packages\\torch\\nn\\modules\\module.py:1501\u001b[0m, in \u001b[0;36mModule._call_impl\u001b[1;34m(self, *args, **kwargs)\u001b[0m\n\u001b[0;32m   1496\u001b[0m \u001b[38;5;66;03m# If we don't have any hooks, we want to skip the rest of the logic in\u001b[39;00m\n\u001b[0;32m   1497\u001b[0m \u001b[38;5;66;03m# this function, and just call forward.\u001b[39;00m\n\u001b[0;32m   1498\u001b[0m \u001b[38;5;28;01mif\u001b[39;00m \u001b[38;5;129;01mnot\u001b[39;00m (\u001b[38;5;28mself\u001b[39m\u001b[38;5;241m.\u001b[39m_backward_hooks \u001b[38;5;129;01mor\u001b[39;00m \u001b[38;5;28mself\u001b[39m\u001b[38;5;241m.\u001b[39m_backward_pre_hooks \u001b[38;5;129;01mor\u001b[39;00m \u001b[38;5;28mself\u001b[39m\u001b[38;5;241m.\u001b[39m_forward_hooks \u001b[38;5;129;01mor\u001b[39;00m \u001b[38;5;28mself\u001b[39m\u001b[38;5;241m.\u001b[39m_forward_pre_hooks\n\u001b[0;32m   1499\u001b[0m         \u001b[38;5;129;01mor\u001b[39;00m _global_backward_pre_hooks \u001b[38;5;129;01mor\u001b[39;00m _global_backward_hooks\n\u001b[0;32m   1500\u001b[0m         \u001b[38;5;129;01mor\u001b[39;00m _global_forward_hooks \u001b[38;5;129;01mor\u001b[39;00m _global_forward_pre_hooks):\n\u001b[1;32m-> 1501\u001b[0m     \u001b[38;5;28;01mreturn\u001b[39;00m forward_call(\u001b[38;5;241m*\u001b[39margs, \u001b[38;5;241m*\u001b[39m\u001b[38;5;241m*\u001b[39mkwargs)\n\u001b[0;32m   1502\u001b[0m \u001b[38;5;66;03m# Do not call functions when jit is used\u001b[39;00m\n\u001b[0;32m   1503\u001b[0m full_backward_hooks, non_full_backward_hooks \u001b[38;5;241m=\u001b[39m [], []\n",
      "File \u001b[1;32m~\\PycharmProjects\\DC3-Group21\\venv\\lib\\site-packages\\transformers\\models\\bert\\modeling_bert.py:1022\u001b[0m, in \u001b[0;36mBertModel.forward\u001b[1;34m(self, input_ids, attention_mask, token_type_ids, position_ids, head_mask, inputs_embeds, encoder_hidden_states, encoder_attention_mask, past_key_values, use_cache, output_attentions, output_hidden_states, return_dict)\u001b[0m\n\u001b[0;32m   1013\u001b[0m head_mask \u001b[38;5;241m=\u001b[39m \u001b[38;5;28mself\u001b[39m\u001b[38;5;241m.\u001b[39mget_head_mask(head_mask, \u001b[38;5;28mself\u001b[39m\u001b[38;5;241m.\u001b[39mconfig\u001b[38;5;241m.\u001b[39mnum_hidden_layers)\n\u001b[0;32m   1015\u001b[0m embedding_output \u001b[38;5;241m=\u001b[39m \u001b[38;5;28mself\u001b[39m\u001b[38;5;241m.\u001b[39membeddings(\n\u001b[0;32m   1016\u001b[0m     input_ids\u001b[38;5;241m=\u001b[39minput_ids,\n\u001b[0;32m   1017\u001b[0m     position_ids\u001b[38;5;241m=\u001b[39mposition_ids,\n\u001b[1;32m   (...)\u001b[0m\n\u001b[0;32m   1020\u001b[0m     past_key_values_length\u001b[38;5;241m=\u001b[39mpast_key_values_length,\n\u001b[0;32m   1021\u001b[0m )\n\u001b[1;32m-> 1022\u001b[0m encoder_outputs \u001b[38;5;241m=\u001b[39m \u001b[38;5;28;43mself\u001b[39;49m\u001b[38;5;241;43m.\u001b[39;49m\u001b[43mencoder\u001b[49m\u001b[43m(\u001b[49m\n\u001b[0;32m   1023\u001b[0m \u001b[43m    \u001b[49m\u001b[43membedding_output\u001b[49m\u001b[43m,\u001b[49m\n\u001b[0;32m   1024\u001b[0m \u001b[43m    \u001b[49m\u001b[43mattention_mask\u001b[49m\u001b[38;5;241;43m=\u001b[39;49m\u001b[43mextended_attention_mask\u001b[49m\u001b[43m,\u001b[49m\n\u001b[0;32m   1025\u001b[0m \u001b[43m    \u001b[49m\u001b[43mhead_mask\u001b[49m\u001b[38;5;241;43m=\u001b[39;49m\u001b[43mhead_mask\u001b[49m\u001b[43m,\u001b[49m\n\u001b[0;32m   1026\u001b[0m \u001b[43m    \u001b[49m\u001b[43mencoder_hidden_states\u001b[49m\u001b[38;5;241;43m=\u001b[39;49m\u001b[43mencoder_hidden_states\u001b[49m\u001b[43m,\u001b[49m\n\u001b[0;32m   1027\u001b[0m \u001b[43m    \u001b[49m\u001b[43mencoder_attention_mask\u001b[49m\u001b[38;5;241;43m=\u001b[39;49m\u001b[43mencoder_extended_attention_mask\u001b[49m\u001b[43m,\u001b[49m\n\u001b[0;32m   1028\u001b[0m \u001b[43m    \u001b[49m\u001b[43mpast_key_values\u001b[49m\u001b[38;5;241;43m=\u001b[39;49m\u001b[43mpast_key_values\u001b[49m\u001b[43m,\u001b[49m\n\u001b[0;32m   1029\u001b[0m \u001b[43m    \u001b[49m\u001b[43muse_cache\u001b[49m\u001b[38;5;241;43m=\u001b[39;49m\u001b[43muse_cache\u001b[49m\u001b[43m,\u001b[49m\n\u001b[0;32m   1030\u001b[0m \u001b[43m    \u001b[49m\u001b[43moutput_attentions\u001b[49m\u001b[38;5;241;43m=\u001b[39;49m\u001b[43moutput_attentions\u001b[49m\u001b[43m,\u001b[49m\n\u001b[0;32m   1031\u001b[0m \u001b[43m    \u001b[49m\u001b[43moutput_hidden_states\u001b[49m\u001b[38;5;241;43m=\u001b[39;49m\u001b[43moutput_hidden_states\u001b[49m\u001b[43m,\u001b[49m\n\u001b[0;32m   1032\u001b[0m \u001b[43m    \u001b[49m\u001b[43mreturn_dict\u001b[49m\u001b[38;5;241;43m=\u001b[39;49m\u001b[43mreturn_dict\u001b[49m\u001b[43m,\u001b[49m\n\u001b[0;32m   1033\u001b[0m \u001b[43m\u001b[49m\u001b[43m)\u001b[49m\n\u001b[0;32m   1034\u001b[0m sequence_output \u001b[38;5;241m=\u001b[39m encoder_outputs[\u001b[38;5;241m0\u001b[39m]\n\u001b[0;32m   1035\u001b[0m pooled_output \u001b[38;5;241m=\u001b[39m \u001b[38;5;28mself\u001b[39m\u001b[38;5;241m.\u001b[39mpooler(sequence_output) \u001b[38;5;28;01mif\u001b[39;00m \u001b[38;5;28mself\u001b[39m\u001b[38;5;241m.\u001b[39mpooler \u001b[38;5;129;01mis\u001b[39;00m \u001b[38;5;129;01mnot\u001b[39;00m \u001b[38;5;28;01mNone\u001b[39;00m \u001b[38;5;28;01melse\u001b[39;00m \u001b[38;5;28;01mNone\u001b[39;00m\n",
      "File \u001b[1;32m~\\PycharmProjects\\DC3-Group21\\venv\\lib\\site-packages\\torch\\nn\\modules\\module.py:1501\u001b[0m, in \u001b[0;36mModule._call_impl\u001b[1;34m(self, *args, **kwargs)\u001b[0m\n\u001b[0;32m   1496\u001b[0m \u001b[38;5;66;03m# If we don't have any hooks, we want to skip the rest of the logic in\u001b[39;00m\n\u001b[0;32m   1497\u001b[0m \u001b[38;5;66;03m# this function, and just call forward.\u001b[39;00m\n\u001b[0;32m   1498\u001b[0m \u001b[38;5;28;01mif\u001b[39;00m \u001b[38;5;129;01mnot\u001b[39;00m (\u001b[38;5;28mself\u001b[39m\u001b[38;5;241m.\u001b[39m_backward_hooks \u001b[38;5;129;01mor\u001b[39;00m \u001b[38;5;28mself\u001b[39m\u001b[38;5;241m.\u001b[39m_backward_pre_hooks \u001b[38;5;129;01mor\u001b[39;00m \u001b[38;5;28mself\u001b[39m\u001b[38;5;241m.\u001b[39m_forward_hooks \u001b[38;5;129;01mor\u001b[39;00m \u001b[38;5;28mself\u001b[39m\u001b[38;5;241m.\u001b[39m_forward_pre_hooks\n\u001b[0;32m   1499\u001b[0m         \u001b[38;5;129;01mor\u001b[39;00m _global_backward_pre_hooks \u001b[38;5;129;01mor\u001b[39;00m _global_backward_hooks\n\u001b[0;32m   1500\u001b[0m         \u001b[38;5;129;01mor\u001b[39;00m _global_forward_hooks \u001b[38;5;129;01mor\u001b[39;00m _global_forward_pre_hooks):\n\u001b[1;32m-> 1501\u001b[0m     \u001b[38;5;28;01mreturn\u001b[39;00m forward_call(\u001b[38;5;241m*\u001b[39margs, \u001b[38;5;241m*\u001b[39m\u001b[38;5;241m*\u001b[39mkwargs)\n\u001b[0;32m   1502\u001b[0m \u001b[38;5;66;03m# Do not call functions when jit is used\u001b[39;00m\n\u001b[0;32m   1503\u001b[0m full_backward_hooks, non_full_backward_hooks \u001b[38;5;241m=\u001b[39m [], []\n",
      "File \u001b[1;32m~\\PycharmProjects\\DC3-Group21\\venv\\lib\\site-packages\\transformers\\models\\bert\\modeling_bert.py:612\u001b[0m, in \u001b[0;36mBertEncoder.forward\u001b[1;34m(self, hidden_states, attention_mask, head_mask, encoder_hidden_states, encoder_attention_mask, past_key_values, use_cache, output_attentions, output_hidden_states, return_dict)\u001b[0m\n\u001b[0;32m    603\u001b[0m     layer_outputs \u001b[38;5;241m=\u001b[39m torch\u001b[38;5;241m.\u001b[39mutils\u001b[38;5;241m.\u001b[39mcheckpoint\u001b[38;5;241m.\u001b[39mcheckpoint(\n\u001b[0;32m    604\u001b[0m         create_custom_forward(layer_module),\n\u001b[0;32m    605\u001b[0m         hidden_states,\n\u001b[1;32m   (...)\u001b[0m\n\u001b[0;32m    609\u001b[0m         encoder_attention_mask,\n\u001b[0;32m    610\u001b[0m     )\n\u001b[0;32m    611\u001b[0m \u001b[38;5;28;01melse\u001b[39;00m:\n\u001b[1;32m--> 612\u001b[0m     layer_outputs \u001b[38;5;241m=\u001b[39m \u001b[43mlayer_module\u001b[49m\u001b[43m(\u001b[49m\n\u001b[0;32m    613\u001b[0m \u001b[43m        \u001b[49m\u001b[43mhidden_states\u001b[49m\u001b[43m,\u001b[49m\n\u001b[0;32m    614\u001b[0m \u001b[43m        \u001b[49m\u001b[43mattention_mask\u001b[49m\u001b[43m,\u001b[49m\n\u001b[0;32m    615\u001b[0m \u001b[43m        \u001b[49m\u001b[43mlayer_head_mask\u001b[49m\u001b[43m,\u001b[49m\n\u001b[0;32m    616\u001b[0m \u001b[43m        \u001b[49m\u001b[43mencoder_hidden_states\u001b[49m\u001b[43m,\u001b[49m\n\u001b[0;32m    617\u001b[0m \u001b[43m        \u001b[49m\u001b[43mencoder_attention_mask\u001b[49m\u001b[43m,\u001b[49m\n\u001b[0;32m    618\u001b[0m \u001b[43m        \u001b[49m\u001b[43mpast_key_value\u001b[49m\u001b[43m,\u001b[49m\n\u001b[0;32m    619\u001b[0m \u001b[43m        \u001b[49m\u001b[43moutput_attentions\u001b[49m\u001b[43m,\u001b[49m\n\u001b[0;32m    620\u001b[0m \u001b[43m    \u001b[49m\u001b[43m)\u001b[49m\n\u001b[0;32m    622\u001b[0m hidden_states \u001b[38;5;241m=\u001b[39m layer_outputs[\u001b[38;5;241m0\u001b[39m]\n\u001b[0;32m    623\u001b[0m \u001b[38;5;28;01mif\u001b[39;00m use_cache:\n",
      "File \u001b[1;32m~\\PycharmProjects\\DC3-Group21\\venv\\lib\\site-packages\\torch\\nn\\modules\\module.py:1501\u001b[0m, in \u001b[0;36mModule._call_impl\u001b[1;34m(self, *args, **kwargs)\u001b[0m\n\u001b[0;32m   1496\u001b[0m \u001b[38;5;66;03m# If we don't have any hooks, we want to skip the rest of the logic in\u001b[39;00m\n\u001b[0;32m   1497\u001b[0m \u001b[38;5;66;03m# this function, and just call forward.\u001b[39;00m\n\u001b[0;32m   1498\u001b[0m \u001b[38;5;28;01mif\u001b[39;00m \u001b[38;5;129;01mnot\u001b[39;00m (\u001b[38;5;28mself\u001b[39m\u001b[38;5;241m.\u001b[39m_backward_hooks \u001b[38;5;129;01mor\u001b[39;00m \u001b[38;5;28mself\u001b[39m\u001b[38;5;241m.\u001b[39m_backward_pre_hooks \u001b[38;5;129;01mor\u001b[39;00m \u001b[38;5;28mself\u001b[39m\u001b[38;5;241m.\u001b[39m_forward_hooks \u001b[38;5;129;01mor\u001b[39;00m \u001b[38;5;28mself\u001b[39m\u001b[38;5;241m.\u001b[39m_forward_pre_hooks\n\u001b[0;32m   1499\u001b[0m         \u001b[38;5;129;01mor\u001b[39;00m _global_backward_pre_hooks \u001b[38;5;129;01mor\u001b[39;00m _global_backward_hooks\n\u001b[0;32m   1500\u001b[0m         \u001b[38;5;129;01mor\u001b[39;00m _global_forward_hooks \u001b[38;5;129;01mor\u001b[39;00m _global_forward_pre_hooks):\n\u001b[1;32m-> 1501\u001b[0m     \u001b[38;5;28;01mreturn\u001b[39;00m forward_call(\u001b[38;5;241m*\u001b[39margs, \u001b[38;5;241m*\u001b[39m\u001b[38;5;241m*\u001b[39mkwargs)\n\u001b[0;32m   1502\u001b[0m \u001b[38;5;66;03m# Do not call functions when jit is used\u001b[39;00m\n\u001b[0;32m   1503\u001b[0m full_backward_hooks, non_full_backward_hooks \u001b[38;5;241m=\u001b[39m [], []\n",
      "File \u001b[1;32m~\\PycharmProjects\\DC3-Group21\\venv\\lib\\site-packages\\transformers\\models\\bert\\modeling_bert.py:539\u001b[0m, in \u001b[0;36mBertLayer.forward\u001b[1;34m(self, hidden_states, attention_mask, head_mask, encoder_hidden_states, encoder_attention_mask, past_key_value, output_attentions)\u001b[0m\n\u001b[0;32m    536\u001b[0m     cross_attn_present_key_value \u001b[38;5;241m=\u001b[39m cross_attention_outputs[\u001b[38;5;241m-\u001b[39m\u001b[38;5;241m1\u001b[39m]\n\u001b[0;32m    537\u001b[0m     present_key_value \u001b[38;5;241m=\u001b[39m present_key_value \u001b[38;5;241m+\u001b[39m cross_attn_present_key_value\n\u001b[1;32m--> 539\u001b[0m layer_output \u001b[38;5;241m=\u001b[39m \u001b[43mapply_chunking_to_forward\u001b[49m\u001b[43m(\u001b[49m\n\u001b[0;32m    540\u001b[0m \u001b[43m    \u001b[49m\u001b[38;5;28;43mself\u001b[39;49m\u001b[38;5;241;43m.\u001b[39;49m\u001b[43mfeed_forward_chunk\u001b[49m\u001b[43m,\u001b[49m\u001b[43m \u001b[49m\u001b[38;5;28;43mself\u001b[39;49m\u001b[38;5;241;43m.\u001b[39;49m\u001b[43mchunk_size_feed_forward\u001b[49m\u001b[43m,\u001b[49m\u001b[43m \u001b[49m\u001b[38;5;28;43mself\u001b[39;49m\u001b[38;5;241;43m.\u001b[39;49m\u001b[43mseq_len_dim\u001b[49m\u001b[43m,\u001b[49m\u001b[43m \u001b[49m\u001b[43mattention_output\u001b[49m\n\u001b[0;32m    541\u001b[0m \u001b[43m\u001b[49m\u001b[43m)\u001b[49m\n\u001b[0;32m    542\u001b[0m outputs \u001b[38;5;241m=\u001b[39m (layer_output,) \u001b[38;5;241m+\u001b[39m outputs\n\u001b[0;32m    544\u001b[0m \u001b[38;5;66;03m# if decoder, return the attn key/values as the last output\u001b[39;00m\n",
      "File \u001b[1;32m~\\PycharmProjects\\DC3-Group21\\venv\\lib\\site-packages\\transformers\\pytorch_utils.py:240\u001b[0m, in \u001b[0;36mapply_chunking_to_forward\u001b[1;34m(forward_fn, chunk_size, chunk_dim, *input_tensors)\u001b[0m\n\u001b[0;32m    237\u001b[0m     \u001b[38;5;66;03m# concatenate output at same dimension\u001b[39;00m\n\u001b[0;32m    238\u001b[0m     \u001b[38;5;28;01mreturn\u001b[39;00m torch\u001b[38;5;241m.\u001b[39mcat(output_chunks, dim\u001b[38;5;241m=\u001b[39mchunk_dim)\n\u001b[1;32m--> 240\u001b[0m \u001b[38;5;28;01mreturn\u001b[39;00m \u001b[43mforward_fn\u001b[49m\u001b[43m(\u001b[49m\u001b[38;5;241;43m*\u001b[39;49m\u001b[43minput_tensors\u001b[49m\u001b[43m)\u001b[49m\n",
      "File \u001b[1;32m~\\PycharmProjects\\DC3-Group21\\venv\\lib\\site-packages\\transformers\\models\\bert\\modeling_bert.py:552\u001b[0m, in \u001b[0;36mBertLayer.feed_forward_chunk\u001b[1;34m(self, attention_output)\u001b[0m\n\u001b[0;32m    550\u001b[0m \u001b[38;5;28;01mdef\u001b[39;00m \u001b[38;5;21mfeed_forward_chunk\u001b[39m(\u001b[38;5;28mself\u001b[39m, attention_output):\n\u001b[0;32m    551\u001b[0m     intermediate_output \u001b[38;5;241m=\u001b[39m \u001b[38;5;28mself\u001b[39m\u001b[38;5;241m.\u001b[39mintermediate(attention_output)\n\u001b[1;32m--> 552\u001b[0m     layer_output \u001b[38;5;241m=\u001b[39m \u001b[38;5;28;43mself\u001b[39;49m\u001b[38;5;241;43m.\u001b[39;49m\u001b[43moutput\u001b[49m\u001b[43m(\u001b[49m\u001b[43mintermediate_output\u001b[49m\u001b[43m,\u001b[49m\u001b[43m \u001b[49m\u001b[43mattention_output\u001b[49m\u001b[43m)\u001b[49m\n\u001b[0;32m    553\u001b[0m     \u001b[38;5;28;01mreturn\u001b[39;00m layer_output\n",
      "File \u001b[1;32m~\\PycharmProjects\\DC3-Group21\\venv\\lib\\site-packages\\torch\\nn\\modules\\module.py:1501\u001b[0m, in \u001b[0;36mModule._call_impl\u001b[1;34m(self, *args, **kwargs)\u001b[0m\n\u001b[0;32m   1496\u001b[0m \u001b[38;5;66;03m# If we don't have any hooks, we want to skip the rest of the logic in\u001b[39;00m\n\u001b[0;32m   1497\u001b[0m \u001b[38;5;66;03m# this function, and just call forward.\u001b[39;00m\n\u001b[0;32m   1498\u001b[0m \u001b[38;5;28;01mif\u001b[39;00m \u001b[38;5;129;01mnot\u001b[39;00m (\u001b[38;5;28mself\u001b[39m\u001b[38;5;241m.\u001b[39m_backward_hooks \u001b[38;5;129;01mor\u001b[39;00m \u001b[38;5;28mself\u001b[39m\u001b[38;5;241m.\u001b[39m_backward_pre_hooks \u001b[38;5;129;01mor\u001b[39;00m \u001b[38;5;28mself\u001b[39m\u001b[38;5;241m.\u001b[39m_forward_hooks \u001b[38;5;129;01mor\u001b[39;00m \u001b[38;5;28mself\u001b[39m\u001b[38;5;241m.\u001b[39m_forward_pre_hooks\n\u001b[0;32m   1499\u001b[0m         \u001b[38;5;129;01mor\u001b[39;00m _global_backward_pre_hooks \u001b[38;5;129;01mor\u001b[39;00m _global_backward_hooks\n\u001b[0;32m   1500\u001b[0m         \u001b[38;5;129;01mor\u001b[39;00m _global_forward_hooks \u001b[38;5;129;01mor\u001b[39;00m _global_forward_pre_hooks):\n\u001b[1;32m-> 1501\u001b[0m     \u001b[38;5;28;01mreturn\u001b[39;00m forward_call(\u001b[38;5;241m*\u001b[39margs, \u001b[38;5;241m*\u001b[39m\u001b[38;5;241m*\u001b[39mkwargs)\n\u001b[0;32m   1502\u001b[0m \u001b[38;5;66;03m# Do not call functions when jit is used\u001b[39;00m\n\u001b[0;32m   1503\u001b[0m full_backward_hooks, non_full_backward_hooks \u001b[38;5;241m=\u001b[39m [], []\n",
      "File \u001b[1;32m~\\PycharmProjects\\DC3-Group21\\venv\\lib\\site-packages\\transformers\\models\\bert\\modeling_bert.py:464\u001b[0m, in \u001b[0;36mBertOutput.forward\u001b[1;34m(self, hidden_states, input_tensor)\u001b[0m\n\u001b[0;32m    463\u001b[0m \u001b[38;5;28;01mdef\u001b[39;00m \u001b[38;5;21mforward\u001b[39m(\u001b[38;5;28mself\u001b[39m, hidden_states: torch\u001b[38;5;241m.\u001b[39mTensor, input_tensor: torch\u001b[38;5;241m.\u001b[39mTensor) \u001b[38;5;241m-\u001b[39m\u001b[38;5;241m>\u001b[39m torch\u001b[38;5;241m.\u001b[39mTensor:\n\u001b[1;32m--> 464\u001b[0m     hidden_states \u001b[38;5;241m=\u001b[39m \u001b[38;5;28;43mself\u001b[39;49m\u001b[38;5;241;43m.\u001b[39;49m\u001b[43mdense\u001b[49m\u001b[43m(\u001b[49m\u001b[43mhidden_states\u001b[49m\u001b[43m)\u001b[49m\n\u001b[0;32m    465\u001b[0m     hidden_states \u001b[38;5;241m=\u001b[39m \u001b[38;5;28mself\u001b[39m\u001b[38;5;241m.\u001b[39mdropout(hidden_states)\n\u001b[0;32m    466\u001b[0m     hidden_states \u001b[38;5;241m=\u001b[39m \u001b[38;5;28mself\u001b[39m\u001b[38;5;241m.\u001b[39mLayerNorm(hidden_states \u001b[38;5;241m+\u001b[39m input_tensor)\n",
      "File \u001b[1;32m~\\PycharmProjects\\DC3-Group21\\venv\\lib\\site-packages\\torch\\nn\\modules\\module.py:1501\u001b[0m, in \u001b[0;36mModule._call_impl\u001b[1;34m(self, *args, **kwargs)\u001b[0m\n\u001b[0;32m   1496\u001b[0m \u001b[38;5;66;03m# If we don't have any hooks, we want to skip the rest of the logic in\u001b[39;00m\n\u001b[0;32m   1497\u001b[0m \u001b[38;5;66;03m# this function, and just call forward.\u001b[39;00m\n\u001b[0;32m   1498\u001b[0m \u001b[38;5;28;01mif\u001b[39;00m \u001b[38;5;129;01mnot\u001b[39;00m (\u001b[38;5;28mself\u001b[39m\u001b[38;5;241m.\u001b[39m_backward_hooks \u001b[38;5;129;01mor\u001b[39;00m \u001b[38;5;28mself\u001b[39m\u001b[38;5;241m.\u001b[39m_backward_pre_hooks \u001b[38;5;129;01mor\u001b[39;00m \u001b[38;5;28mself\u001b[39m\u001b[38;5;241m.\u001b[39m_forward_hooks \u001b[38;5;129;01mor\u001b[39;00m \u001b[38;5;28mself\u001b[39m\u001b[38;5;241m.\u001b[39m_forward_pre_hooks\n\u001b[0;32m   1499\u001b[0m         \u001b[38;5;129;01mor\u001b[39;00m _global_backward_pre_hooks \u001b[38;5;129;01mor\u001b[39;00m _global_backward_hooks\n\u001b[0;32m   1500\u001b[0m         \u001b[38;5;129;01mor\u001b[39;00m _global_forward_hooks \u001b[38;5;129;01mor\u001b[39;00m _global_forward_pre_hooks):\n\u001b[1;32m-> 1501\u001b[0m     \u001b[38;5;28;01mreturn\u001b[39;00m forward_call(\u001b[38;5;241m*\u001b[39margs, \u001b[38;5;241m*\u001b[39m\u001b[38;5;241m*\u001b[39mkwargs)\n\u001b[0;32m   1502\u001b[0m \u001b[38;5;66;03m# Do not call functions when jit is used\u001b[39;00m\n\u001b[0;32m   1503\u001b[0m full_backward_hooks, non_full_backward_hooks \u001b[38;5;241m=\u001b[39m [], []\n",
      "File \u001b[1;32m~\\PycharmProjects\\DC3-Group21\\venv\\lib\\site-packages\\torch\\nn\\modules\\linear.py:114\u001b[0m, in \u001b[0;36mLinear.forward\u001b[1;34m(self, input)\u001b[0m\n\u001b[0;32m    113\u001b[0m \u001b[38;5;28;01mdef\u001b[39;00m \u001b[38;5;21mforward\u001b[39m(\u001b[38;5;28mself\u001b[39m, \u001b[38;5;28minput\u001b[39m: Tensor) \u001b[38;5;241m-\u001b[39m\u001b[38;5;241m>\u001b[39m Tensor:\n\u001b[1;32m--> 114\u001b[0m     \u001b[38;5;28;01mreturn\u001b[39;00m \u001b[43mF\u001b[49m\u001b[38;5;241;43m.\u001b[39;49m\u001b[43mlinear\u001b[49m\u001b[43m(\u001b[49m\u001b[38;5;28;43minput\u001b[39;49m\u001b[43m,\u001b[49m\u001b[43m \u001b[49m\u001b[38;5;28;43mself\u001b[39;49m\u001b[38;5;241;43m.\u001b[39;49m\u001b[43mweight\u001b[49m\u001b[43m,\u001b[49m\u001b[43m \u001b[49m\u001b[38;5;28;43mself\u001b[39;49m\u001b[38;5;241;43m.\u001b[39;49m\u001b[43mbias\u001b[49m\u001b[43m)\u001b[49m\n",
      "\u001b[1;31mKeyboardInterrupt\u001b[0m: "
     ]
    }
   ],
   "source": [
    "pca_model = PCA(random_state=42, n_components=150)\n",
    "\n",
    "if os.path.exists('southsudan_model7'):\n",
    "    bertopic_PCA_NG = BERTopic.load('southsudan_model7')\n",
    "else:\n",
    "    bertopic_PCA_NG = BERTopic(language=\"english\", calculate_probabilities=True, verbose=True, umap_model=pca_model, n_gram_range=(1, 3))\n",
    "    bertopic_PCA_NG.fit_transform(docs)\n",
    "    bertopic_PCA_NG.save(\"southsudan_model7\")\n",
    "\n",
    "bertopic_PCA_NG.get_topic_info()"
   ]
  },
  {
   "cell_type": "markdown",
   "metadata": {
    "collapsed": false,
    "jupyter": {
     "outputs_hidden": false
    },
    "pycharm": {
     "name": "#%% md\n"
    }
   },
   "source": [
    "## KMeans and n-gram"
   ]
  },
  {
   "cell_type": "code",
   "execution_count": 64,
   "metadata": {
    "collapsed": false,
    "jupyter": {
     "outputs_hidden": false
    },
    "pycharm": {
     "name": "#%%\n"
    }
   },
   "outputs": [
    {
     "data": {
      "application/vnd.jupyter.widget-view+json": {
       "model_id": "3583ad5116304bd3bd91df4f755e7bcc",
       "version_major": 2,
       "version_minor": 0
      },
      "text/plain": [
       "Batches:   0%|          | 0/579 [00:00<?, ?it/s]"
      ]
     },
     "metadata": {},
     "output_type": "display_data"
    },
    {
     "name": "stderr",
     "output_type": "stream",
     "text": [
      "2023-09-21 16:49:32,291 - BERTopic - Transformed documents to Embeddings\n",
      "2023-09-21 16:49:43,722 - BERTopic - Reduced dimensionality\n",
      "2023-09-21 16:49:46,045 - BERTopic - Clustered reduced embeddings\n"
     ]
    },
    {
     "data": {
      "text/html": [
       "<div>\n",
       "<style scoped>\n",
       "    .dataframe tbody tr th:only-of-type {\n",
       "        vertical-align: middle;\n",
       "    }\n",
       "\n",
       "    .dataframe tbody tr th {\n",
       "        vertical-align: top;\n",
       "    }\n",
       "\n",
       "    .dataframe thead th {\n",
       "        text-align: right;\n",
       "    }\n",
       "</style>\n",
       "<table border=\"1\" class=\"dataframe\">\n",
       "  <thead>\n",
       "    <tr style=\"text-align: right;\">\n",
       "      <th></th>\n",
       "      <th>Topic</th>\n",
       "      <th>Count</th>\n",
       "      <th>Name</th>\n",
       "      <th>Representation</th>\n",
       "      <th>Representative_Docs</th>\n",
       "    </tr>\n",
       "  </thead>\n",
       "  <tbody>\n",
       "    <tr>\n",
       "      <th>0</th>\n",
       "      <td>0</td>\n",
       "      <td>256</td>\n",
       "      <td>0_murle_jonglei_jonglei state_in jonglei</td>\n",
       "      <td>[murle, jonglei, jonglei state, in jonglei, lo...</td>\n",
       "      <td>[The article discusses the retaliatory attack ...</td>\n",
       "    </tr>\n",
       "    <tr>\n",
       "      <th>1</th>\n",
       "      <td>1</td>\n",
       "      <td>250</td>\n",
       "      <td>1_refugees_refugee_uganda_south sudanese refugees</td>\n",
       "      <td>[refugees, refugee, uganda, south sudanese ref...</td>\n",
       "      <td>[The article discusses the launch of a regiona...</td>\n",
       "    </tr>\n",
       "    <tr>\n",
       "      <th>2</th>\n",
       "      <td>2</td>\n",
       "      <td>241</td>\n",
       "      <td>2_million_aid_humanitarian_people</td>\n",
       "      <td>[million, aid, humanitarian, people, assistanc...</td>\n",
       "      <td>[The article discusses the US President author...</td>\n",
       "    </tr>\n",
       "    <tr>\n",
       "      <th>3</th>\n",
       "      <td>3</td>\n",
       "      <td>237</td>\n",
       "      <td>3_children_child_child soldiers_unicef</td>\n",
       "      <td>[children, child, child soldiers, unicef, of c...</td>\n",
       "      <td>[The article discusses the launch of the Child...</td>\n",
       "    </tr>\n",
       "    <tr>\n",
       "      <th>4</th>\n",
       "      <td>4</td>\n",
       "      <td>235</td>\n",
       "      <td>4_human rights_rights_human_commission</td>\n",
       "      <td>[human rights, rights, human, commission, crim...</td>\n",
       "      <td>[The article discusses a letter written by a g...</td>\n",
       "    </tr>\n",
       "    <tr>\n",
       "      <th>...</th>\n",
       "      <td>...</td>\n",
       "      <td>...</td>\n",
       "      <td>...</td>\n",
       "      <td>...</td>\n",
       "      <td>...</td>\n",
       "    </tr>\n",
       "    <tr>\n",
       "      <th>145</th>\n",
       "      <td>145</td>\n",
       "      <td>42</td>\n",
       "      <td>145_hiv_hivaids_fistula_testing</td>\n",
       "      <td>[hiv, hivaids, fistula, testing, aids, obstetr...</td>\n",
       "      <td>[The article discusses the drop in HIV/AIDS in...</td>\n",
       "    </tr>\n",
       "    <tr>\n",
       "      <th>146</th>\n",
       "      <td>146</td>\n",
       "      <td>36</td>\n",
       "      <td>146_kerry_of state john_state john_secretary o...</td>\n",
       "      <td>[kerry, of state john, state john, secretary o...</td>\n",
       "      <td>[The article discusses U.S. Secretary of State...</td>\n",
       "    </tr>\n",
       "    <tr>\n",
       "      <th>147</th>\n",
       "      <td>147</td>\n",
       "      <td>34</td>\n",
       "      <td>147_pension_pensioners_pensions_service</td>\n",
       "      <td>[pension, pensioners, pensions, service, serva...</td>\n",
       "      <td>[The article discusses the State Minister for ...</td>\n",
       "    </tr>\n",
       "    <tr>\n",
       "      <th>148</th>\n",
       "      <td>148</td>\n",
       "      <td>31</td>\n",
       "      <td>148_great lakes_great lakes region_lakes regio...</td>\n",
       "      <td>[great lakes, great lakes region, lakes region...</td>\n",
       "      <td>[The article discusses the arrival of Salva Ki...</td>\n",
       "    </tr>\n",
       "    <tr>\n",
       "      <th>149</th>\n",
       "      <td>149</td>\n",
       "      <td>26</td>\n",
       "      <td>149_death penalty_penalty_the death penalty_death</td>\n",
       "      <td>[death penalty, penalty, the death penalty, de...</td>\n",
       "      <td>[The article discusses the call by human right...</td>\n",
       "    </tr>\n",
       "  </tbody>\n",
       "</table>\n",
       "<p>150 rows × 5 columns</p>\n",
       "</div>"
      ],
      "text/plain": [
       "     Topic  Count                                               Name  \\\n",
       "0        0    256           0_murle_jonglei_jonglei state_in jonglei   \n",
       "1        1    250  1_refugees_refugee_uganda_south sudanese refugees   \n",
       "2        2    241                  2_million_aid_humanitarian_people   \n",
       "3        3    237             3_children_child_child soldiers_unicef   \n",
       "4        4    235             4_human rights_rights_human_commission   \n",
       "..     ...    ...                                                ...   \n",
       "145    145     42                    145_hiv_hivaids_fistula_testing   \n",
       "146    146     36  146_kerry_of state john_state john_secretary o...   \n",
       "147    147     34            147_pension_pensioners_pensions_service   \n",
       "148    148     31  148_great lakes_great lakes region_lakes regio...   \n",
       "149    149     26  149_death penalty_penalty_the death penalty_death   \n",
       "\n",
       "                                        Representation  \\\n",
       "0    [murle, jonglei, jonglei state, in jonglei, lo...   \n",
       "1    [refugees, refugee, uganda, south sudanese ref...   \n",
       "2    [million, aid, humanitarian, people, assistanc...   \n",
       "3    [children, child, child soldiers, unicef, of c...   \n",
       "4    [human rights, rights, human, commission, crim...   \n",
       "..                                                 ...   \n",
       "145  [hiv, hivaids, fistula, testing, aids, obstetr...   \n",
       "146  [kerry, of state john, state john, secretary o...   \n",
       "147  [pension, pensioners, pensions, service, serva...   \n",
       "148  [great lakes, great lakes region, lakes region...   \n",
       "149  [death penalty, penalty, the death penalty, de...   \n",
       "\n",
       "                                   Representative_Docs  \n",
       "0    [The article discusses the retaliatory attack ...  \n",
       "1    [The article discusses the launch of a regiona...  \n",
       "2    [The article discusses the US President author...  \n",
       "3    [The article discusses the launch of the Child...  \n",
       "4    [The article discusses a letter written by a g...  \n",
       "..                                                 ...  \n",
       "145  [The article discusses the drop in HIV/AIDS in...  \n",
       "146  [The article discusses U.S. Secretary of State...  \n",
       "147  [The article discusses the State Minister for ...  \n",
       "148  [The article discusses the arrival of Salva Ki...  \n",
       "149  [The article discusses the call by human right...  \n",
       "\n",
       "[150 rows x 5 columns]"
      ]
     },
     "execution_count": 64,
     "metadata": {},
     "output_type": "execute_result"
    }
   ],
   "source": [
    "kmeans_model = KMeans(n_clusters=150, random_state=42)\n",
    "\n",
    "if os.path.exists('southsudan_model8'):\n",
    "    bertopic_KM_NG = BERTopic.load('southsudan_model8')\n",
    "else:\n",
    "    bertopic_KM_NG = BERTopic(language=\"english\", calculate_probabilities=True, verbose=True, umap_model=umap_model, hdbscan_model=kmeans_model, n_gram_range=(1, 3))\n",
    "    bertopic_KM_NG.fit_transform(docs)\n",
    "    bertopic_KM_NG.save(\"southsudan_model8\")\n",
    "\n",
    "bertopic_KM_NG.get_topic_info()"
   ]
  },
  {
   "cell_type": "markdown",
   "metadata": {
    "collapsed": false,
    "jupyter": {
     "outputs_hidden": false
    },
    "pycharm": {
     "name": "#%% md\n"
    }
   },
   "source": [
    "## PCA and KMeans and n-gram"
   ]
  },
  {
   "cell_type": "code",
   "execution_count": 40,
   "metadata": {
    "collapsed": false,
    "jupyter": {
     "outputs_hidden": false
    },
    "pycharm": {
     "name": "#%%\n"
    }
   },
   "outputs": [
    {
     "data": {
      "text/html": [
       "<div>\n",
       "<style scoped>\n",
       "    .dataframe tbody tr th:only-of-type {\n",
       "        vertical-align: middle;\n",
       "    }\n",
       "\n",
       "    .dataframe tbody tr th {\n",
       "        vertical-align: top;\n",
       "    }\n",
       "\n",
       "    .dataframe thead th {\n",
       "        text-align: right;\n",
       "    }\n",
       "</style>\n",
       "<table border=\"1\" class=\"dataframe\">\n",
       "  <thead>\n",
       "    <tr style=\"text-align: right;\">\n",
       "      <th></th>\n",
       "      <th>Topic</th>\n",
       "      <th>Count</th>\n",
       "      <th>Name</th>\n",
       "      <th>Representation</th>\n",
       "      <th>Representative_Docs</th>\n",
       "    </tr>\n",
       "  </thead>\n",
       "  <tbody>\n",
       "    <tr>\n",
       "      <th>0</th>\n",
       "      <td>0</td>\n",
       "      <td>1794</td>\n",
       "      <td>0_the_and_of_to</td>\n",
       "      <td>[the, and, of, to, in, peace, south, sudan, so...</td>\n",
       "      <td>[The article discusses the joint statement by ...</td>\n",
       "    </tr>\n",
       "    <tr>\n",
       "      <th>1</th>\n",
       "      <td>1</td>\n",
       "      <td>1625</td>\n",
       "      <td>1_the_of_and_president</td>\n",
       "      <td>[the, of, and, president, to, kiir, in, south,...</td>\n",
       "      <td>[The article discusses the return of South Sud...</td>\n",
       "    </tr>\n",
       "    <tr>\n",
       "      <th>2</th>\n",
       "      <td>2</td>\n",
       "      <td>1453</td>\n",
       "      <td>2_the_and_of_to</td>\n",
       "      <td>[the, and, of, to, in, south, article, the art...</td>\n",
       "      <td>[The article discusses the potential benefits ...</td>\n",
       "    </tr>\n",
       "    <tr>\n",
       "      <th>3</th>\n",
       "      <td>3</td>\n",
       "      <td>1403</td>\n",
       "      <td>3_the_in_of_and</td>\n",
       "      <td>[the, in, of, and, to, south, sudan, the artic...</td>\n",
       "      <td>[The article discusses the ongoing military co...</td>\n",
       "    </tr>\n",
       "    <tr>\n",
       "      <th>4</th>\n",
       "      <td>4</td>\n",
       "      <td>1387</td>\n",
       "      <td>4_the_of_and_in</td>\n",
       "      <td>[the, of, and, in, to, south, article, the art...</td>\n",
       "      <td>[The article discusses the 11-month anniversar...</td>\n",
       "    </tr>\n",
       "    <tr>\n",
       "      <th>5</th>\n",
       "      <td>5</td>\n",
       "      <td>1351</td>\n",
       "      <td>5_the_and_to_of</td>\n",
       "      <td>[the, and, to, of, in, south, sudan, south sud...</td>\n",
       "      <td>[The article discusses the launch of the South...</td>\n",
       "    </tr>\n",
       "    <tr>\n",
       "      <th>6</th>\n",
       "      <td>6</td>\n",
       "      <td>1328</td>\n",
       "      <td>6_the_and_to_in</td>\n",
       "      <td>[the, and, to, in, of, food, south, people, su...</td>\n",
       "      <td>[The article discusses Australia's AUD 1.25 mi...</td>\n",
       "    </tr>\n",
       "    <tr>\n",
       "      <th>7</th>\n",
       "      <td>7</td>\n",
       "      <td>1259</td>\n",
       "      <td>7_the_and_of_sudan</td>\n",
       "      <td>[the, and, of, sudan, to, abyei, south, in, so...</td>\n",
       "      <td>[The article discusses the lack of progress in...</td>\n",
       "    </tr>\n",
       "    <tr>\n",
       "      <th>8</th>\n",
       "      <td>8</td>\n",
       "      <td>1226</td>\n",
       "      <td>8_the_and_of_to</td>\n",
       "      <td>[the, and, of, to, sudan, south, in, south sud...</td>\n",
       "      <td>[The article discusses the President of the Re...</td>\n",
       "    </tr>\n",
       "    <tr>\n",
       "      <th>9</th>\n",
       "      <td>9</td>\n",
       "      <td>1183</td>\n",
       "      <td>9_the_and_of_in</td>\n",
       "      <td>[the, and, of, in, to, south, sudan, south sud...</td>\n",
       "      <td>[The article discusses the ongoing human right...</td>\n",
       "    </tr>\n",
       "    <tr>\n",
       "      <th>10</th>\n",
       "      <td>10</td>\n",
       "      <td>1098</td>\n",
       "      <td>10_the_in_to_refugees</td>\n",
       "      <td>[the, in, to, refugees, and, of, south, sudan,...</td>\n",
       "      <td>[The article discusses the arrival of thousand...</td>\n",
       "    </tr>\n",
       "    <tr>\n",
       "      <th>11</th>\n",
       "      <td>11</td>\n",
       "      <td>1036</td>\n",
       "      <td>11_the_and_in_of</td>\n",
       "      <td>[the, and, in, of, to, south, sudan, for, sout...</td>\n",
       "      <td>[The article discusses the reopening of Dr Joh...</td>\n",
       "    </tr>\n",
       "    <tr>\n",
       "      <th>12</th>\n",
       "      <td>12</td>\n",
       "      <td>925</td>\n",
       "      <td>12_oil_the_sudan_south</td>\n",
       "      <td>[oil, the, sudan, south, to, of, and, south su...</td>\n",
       "      <td>[The article discusses the failed negotiations...</td>\n",
       "    </tr>\n",
       "    <tr>\n",
       "      <th>13</th>\n",
       "      <td>13</td>\n",
       "      <td>827</td>\n",
       "      <td>13_the_and_of_to</td>\n",
       "      <td>[the, and, of, to, in, south, sudan, un, south...</td>\n",
       "      <td>[The article discusses the briefing provided b...</td>\n",
       "    </tr>\n",
       "    <tr>\n",
       "      <th>14</th>\n",
       "      <td>14</td>\n",
       "      <td>625</td>\n",
       "      <td>14_the_of_and_to</td>\n",
       "      <td>[the, of, and, to, in, state, article, the art...</td>\n",
       "      <td>[The article discusses the death of Colonel Yo...</td>\n",
       "    </tr>\n",
       "  </tbody>\n",
       "</table>\n",
       "</div>"
      ],
      "text/plain": [
       "    Topic  Count                    Name  \\\n",
       "0       0   1794         0_the_and_of_to   \n",
       "1       1   1625  1_the_of_and_president   \n",
       "2       2   1453         2_the_and_of_to   \n",
       "3       3   1403         3_the_in_of_and   \n",
       "4       4   1387         4_the_of_and_in   \n",
       "5       5   1351         5_the_and_to_of   \n",
       "6       6   1328         6_the_and_to_in   \n",
       "7       7   1259      7_the_and_of_sudan   \n",
       "8       8   1226         8_the_and_of_to   \n",
       "9       9   1183         9_the_and_of_in   \n",
       "10     10   1098   10_the_in_to_refugees   \n",
       "11     11   1036        11_the_and_in_of   \n",
       "12     12    925  12_oil_the_sudan_south   \n",
       "13     13    827        13_the_and_of_to   \n",
       "14     14    625        14_the_of_and_to   \n",
       "\n",
       "                                       Representation  \\\n",
       "0   [the, and, of, to, in, peace, south, sudan, so...   \n",
       "1   [the, of, and, president, to, kiir, in, south,...   \n",
       "2   [the, and, of, to, in, south, article, the art...   \n",
       "3   [the, in, of, and, to, south, sudan, the artic...   \n",
       "4   [the, of, and, in, to, south, article, the art...   \n",
       "5   [the, and, to, of, in, south, sudan, south sud...   \n",
       "6   [the, and, to, in, of, food, south, people, su...   \n",
       "7   [the, and, of, sudan, to, abyei, south, in, so...   \n",
       "8   [the, and, of, to, sudan, south, in, south sud...   \n",
       "9   [the, and, of, in, to, south, sudan, south sud...   \n",
       "10  [the, in, to, refugees, and, of, south, sudan,...   \n",
       "11  [the, and, in, of, to, south, sudan, for, sout...   \n",
       "12  [oil, the, sudan, south, to, of, and, south su...   \n",
       "13  [the, and, of, to, in, south, sudan, un, south...   \n",
       "14  [the, of, and, to, in, state, article, the art...   \n",
       "\n",
       "                                  Representative_Docs  \n",
       "0   [The article discusses the joint statement by ...  \n",
       "1   [The article discusses the return of South Sud...  \n",
       "2   [The article discusses the potential benefits ...  \n",
       "3   [The article discusses the ongoing military co...  \n",
       "4   [The article discusses the 11-month anniversar...  \n",
       "5   [The article discusses the launch of the South...  \n",
       "6   [The article discusses Australia's AUD 1.25 mi...  \n",
       "7   [The article discusses the lack of progress in...  \n",
       "8   [The article discusses the President of the Re...  \n",
       "9   [The article discusses the ongoing human right...  \n",
       "10  [The article discusses the arrival of thousand...  \n",
       "11  [The article discusses the reopening of Dr Joh...  \n",
       "12  [The article discusses the failed negotiations...  \n",
       "13  [The article discusses the briefing provided b...  \n",
       "14  [The article discusses the death of Colonel Yo...  "
      ]
     },
     "execution_count": 40,
     "metadata": {},
     "output_type": "execute_result"
    }
   ],
   "source": [
    "pca_model = PCA(random_state=42, n_components=50)\n",
    "kmeans_model = KMeans(n_clusters=50, random_state=42)\n",
    "\n",
    "if os.path.exists('southsudan_model9'):\n",
    "    bertopic_PCA_KM_NG = BERTopic.load('southsudan_model9')\n",
    "else:\n",
    "    bertopic_PCA_KM_NG = BERTopic(language=\"english\", calculate_probabilities=True, verbose=True, umap_model=pca_model, hdbscan_model=kmeans_model, n_gram_range=(1, 3))\n",
    "    bertopic_PCA_KM_NG.fit_transform(docs)\n",
    "    bertopic_PCA_KM_NG.save(\"southsudan_model9\")\n",
    "\n",
    "bertopic_PCA_KM_NG.get_topic_info()"
   ]
  },
  {
   "cell_type": "markdown",
   "metadata": {
    "collapsed": false,
    "jupyter": {
     "outputs_hidden": false
    },
    "pycharm": {
     "name": "#%% md\n"
    }
   },
   "source": [
    "# remove stopwords"
   ]
  },
  {
   "cell_type": "code",
   "execution_count": 41,
   "metadata": {
    "collapsed": false,
    "jupyter": {
     "outputs_hidden": false
    },
    "pycharm": {
     "name": "#%%\n"
    }
   },
   "outputs": [
    {
     "data": {
      "text/html": [
       "<div>\n",
       "<style scoped>\n",
       "    .dataframe tbody tr th:only-of-type {\n",
       "        vertical-align: middle;\n",
       "    }\n",
       "\n",
       "    .dataframe tbody tr th {\n",
       "        vertical-align: top;\n",
       "    }\n",
       "\n",
       "    .dataframe thead th {\n",
       "        text-align: right;\n",
       "    }\n",
       "</style>\n",
       "<table border=\"1\" class=\"dataframe\">\n",
       "  <thead>\n",
       "    <tr style=\"text-align: right;\">\n",
       "      <th></th>\n",
       "      <th>Topic</th>\n",
       "      <th>Count</th>\n",
       "      <th>Name</th>\n",
       "      <th>Representation</th>\n",
       "      <th>Representative_Docs</th>\n",
       "    </tr>\n",
       "  </thead>\n",
       "  <tbody>\n",
       "    <tr>\n",
       "      <th>0</th>\n",
       "      <td>-1</td>\n",
       "      <td>6559</td>\n",
       "      <td>-1_south_sudan_article_discusses</td>\n",
       "      <td>[south, sudan, article, discusses, president, ...</td>\n",
       "      <td>[The article discusses the visit of John Prend...</td>\n",
       "    </tr>\n",
       "    <tr>\n",
       "      <th>1</th>\n",
       "      <td>0</td>\n",
       "      <td>377</td>\n",
       "      <td>0_food_wfp_million_hunger</td>\n",
       "      <td>[food, wfp, million, hunger, famine, assistanc...</td>\n",
       "      <td>[The article discusses the joint crop and food...</td>\n",
       "    </tr>\n",
       "    <tr>\n",
       "      <th>2</th>\n",
       "      <td>1</td>\n",
       "      <td>355</td>\n",
       "      <td>1_kiir_author_kiirs_coup</td>\n",
       "      <td>[kiir, author, kiirs, coup, salva, president, ...</td>\n",
       "      <td>[The article discusses the ongoing conflict an...</td>\n",
       "    </tr>\n",
       "    <tr>\n",
       "      <th>3</th>\n",
       "      <td>2</td>\n",
       "      <td>331</td>\n",
       "      <td>2_abyei_referendum_ngok_area</td>\n",
       "      <td>[abyei, referendum, ngok, area, misseriya, din...</td>\n",
       "      <td>[The article discusses the plan of members of ...</td>\n",
       "    </tr>\n",
       "    <tr>\n",
       "      <th>4</th>\n",
       "      <td>3</td>\n",
       "      <td>227</td>\n",
       "      <td>3_million_aid_humanitarian_funding</td>\n",
       "      <td>[million, aid, humanitarian, funding, emergenc...</td>\n",
       "      <td>[The article discusses the commitment of the U...</td>\n",
       "    </tr>\n",
       "    <tr>\n",
       "      <th>...</th>\n",
       "      <td>...</td>\n",
       "      <td>...</td>\n",
       "      <td>...</td>\n",
       "      <td>...</td>\n",
       "      <td>...</td>\n",
       "    </tr>\n",
       "    <tr>\n",
       "      <th>241</th>\n",
       "      <td>240</td>\n",
       "      <td>10</td>\n",
       "      <td>240_kalaazar_disease_azar_kala</td>\n",
       "      <td>[kalaazar, disease, azar, kala, flies, worm, c...</td>\n",
       "      <td>[The article discusses the progress made in er...</td>\n",
       "    </tr>\n",
       "    <tr>\n",
       "      <th>242</th>\n",
       "      <td>241</td>\n",
       "      <td>10</td>\n",
       "      <td>241_batil_respiratory_refugees_hygiene</td>\n",
       "      <td>[batil, respiratory, refugees, hygiene, tract,...</td>\n",
       "      <td>[The article discusses the health situation of...</td>\n",
       "    </tr>\n",
       "    <tr>\n",
       "      <th>243</th>\n",
       "      <td>242</td>\n",
       "      <td>10</td>\n",
       "      <td>242_comic_defections_conflict_analysts</td>\n",
       "      <td>[comic, defections, conflict, analysts, disban...</td>\n",
       "      <td>[The article discusses the ongoing conflict be...</td>\n",
       "    </tr>\n",
       "    <tr>\n",
       "      <th>244</th>\n",
       "      <td>243</td>\n",
       "      <td>10</td>\n",
       "      <td>243_children_unicef_families_app</td>\n",
       "      <td>[children, unicef, families, app, streets, mil...</td>\n",
       "      <td>[The article discusses how violence and insecu...</td>\n",
       "    </tr>\n",
       "    <tr>\n",
       "      <th>245</th>\n",
       "      <td>244</td>\n",
       "      <td>10</td>\n",
       "      <td>244_outstanding_issues_omer_border</td>\n",
       "      <td>[outstanding, issues, omer, border, mali, high...</td>\n",
       "      <td>[The article discusses the upcoming meeting be...</td>\n",
       "    </tr>\n",
       "  </tbody>\n",
       "</table>\n",
       "<p>246 rows × 5 columns</p>\n",
       "</div>"
      ],
      "text/plain": [
       "     Topic  Count                                    Name  \\\n",
       "0       -1   6559        -1_south_sudan_article_discusses   \n",
       "1        0    377               0_food_wfp_million_hunger   \n",
       "2        1    355                1_kiir_author_kiirs_coup   \n",
       "3        2    331            2_abyei_referendum_ngok_area   \n",
       "4        3    227      3_million_aid_humanitarian_funding   \n",
       "..     ...    ...                                     ...   \n",
       "241    240     10          240_kalaazar_disease_azar_kala   \n",
       "242    241     10  241_batil_respiratory_refugees_hygiene   \n",
       "243    242     10  242_comic_defections_conflict_analysts   \n",
       "244    243     10        243_children_unicef_families_app   \n",
       "245    244     10      244_outstanding_issues_omer_border   \n",
       "\n",
       "                                        Representation  \\\n",
       "0    [south, sudan, article, discusses, president, ...   \n",
       "1    [food, wfp, million, hunger, famine, assistanc...   \n",
       "2    [kiir, author, kiirs, coup, salva, president, ...   \n",
       "3    [abyei, referendum, ngok, area, misseriya, din...   \n",
       "4    [million, aid, humanitarian, funding, emergenc...   \n",
       "..                                                 ...   \n",
       "241  [kalaazar, disease, azar, kala, flies, worm, c...   \n",
       "242  [batil, respiratory, refugees, hygiene, tract,...   \n",
       "243  [comic, defections, conflict, analysts, disban...   \n",
       "244  [children, unicef, families, app, streets, mil...   \n",
       "245  [outstanding, issues, omer, border, mali, high...   \n",
       "\n",
       "                                   Representative_Docs  \n",
       "0    [The article discusses the visit of John Prend...  \n",
       "1    [The article discusses the joint crop and food...  \n",
       "2    [The article discusses the ongoing conflict an...  \n",
       "3    [The article discusses the plan of members of ...  \n",
       "4    [The article discusses the commitment of the U...  \n",
       "..                                                 ...  \n",
       "241  [The article discusses the progress made in er...  \n",
       "242  [The article discusses the health situation of...  \n",
       "243  [The article discusses the ongoing conflict be...  \n",
       "244  [The article discusses how violence and insecu...  \n",
       "245  [The article discusses the upcoming meeting be...  \n",
       "\n",
       "[246 rows x 5 columns]"
      ]
     },
     "execution_count": 41,
     "metadata": {},
     "output_type": "execute_result"
    }
   ],
   "source": [
    "from sklearn.feature_extraction.text import CountVectorizer\n",
    "vectorizer_model = CountVectorizer(stop_words=\"english\")\n",
    "\n",
    "if os.path.exists('southsudan_model10'):\n",
    "    bertopic_VM = BERTopic.load('southsudan_model10')\n",
    "else:\n",
    "    bertopic_VM = BERTopic(language=\"english\", calculate_probabilities=True, verbose=True, umap_model=umap_model, vectorizer_model=vectorizer_model)\n",
    "    bertopic_VM.fit_transform(docs)\n",
    "    bertopic_VM.save(\"southsudan_model10\")\n",
    "\n",
    "bertopic_VM.get_topic_info()"
   ]
  },
  {
   "cell_type": "markdown",
   "metadata": {
    "collapsed": false,
    "jupyter": {
     "outputs_hidden": false
    },
    "pycharm": {
     "name": "#%% md\n"
    }
   },
   "source": [
    "## remove stopwords and KM"
   ]
  },
  {
   "cell_type": "code",
   "execution_count": 65,
   "metadata": {
    "collapsed": false,
    "jupyter": {
     "outputs_hidden": false
    },
    "pycharm": {
     "name": "#%%\n"
    }
   },
   "outputs": [
    {
     "data": {
      "application/vnd.jupyter.widget-view+json": {
       "model_id": "b2f8818411ed4d14abb6f5d668654101",
       "version_major": 2,
       "version_minor": 0
      },
      "text/plain": [
       "Batches:   0%|          | 0/579 [00:00<?, ?it/s]"
      ]
     },
     "metadata": {},
     "output_type": "display_data"
    },
    {
     "name": "stderr",
     "output_type": "stream",
     "text": [
      "2023-09-21 16:58:43,822 - BERTopic - Transformed documents to Embeddings\n",
      "2023-09-21 16:58:55,893 - BERTopic - Reduced dimensionality\n",
      "2023-09-21 16:58:58,537 - BERTopic - Clustered reduced embeddings\n"
     ]
    },
    {
     "data": {
      "text/html": [
       "<div>\n",
       "<style scoped>\n",
       "    .dataframe tbody tr th:only-of-type {\n",
       "        vertical-align: middle;\n",
       "    }\n",
       "\n",
       "    .dataframe tbody tr th {\n",
       "        vertical-align: top;\n",
       "    }\n",
       "\n",
       "    .dataframe thead th {\n",
       "        text-align: right;\n",
       "    }\n",
       "</style>\n",
       "<table border=\"1\" class=\"dataframe\">\n",
       "  <thead>\n",
       "    <tr style=\"text-align: right;\">\n",
       "      <th></th>\n",
       "      <th>Topic</th>\n",
       "      <th>Count</th>\n",
       "      <th>Name</th>\n",
       "      <th>Representation</th>\n",
       "      <th>Representative_Docs</th>\n",
       "    </tr>\n",
       "  </thead>\n",
       "  <tbody>\n",
       "    <tr>\n",
       "      <th>0</th>\n",
       "      <td>0</td>\n",
       "      <td>256</td>\n",
       "      <td>0_murle_jonglei_lou_nuer</td>\n",
       "      <td>[murle, jonglei, lou, nuer, pibor, cattle, cou...</td>\n",
       "      <td>[The article discusses an attack by armed Lou-...</td>\n",
       "    </tr>\n",
       "    <tr>\n",
       "      <th>1</th>\n",
       "      <td>1</td>\n",
       "      <td>250</td>\n",
       "      <td>1_refugees_refugee_uganda_unhcr</td>\n",
       "      <td>[refugees, refugee, uganda, unhcr, district, c...</td>\n",
       "      <td>[The article discusses the influx of South Sud...</td>\n",
       "    </tr>\n",
       "    <tr>\n",
       "      <th>2</th>\n",
       "      <td>2</td>\n",
       "      <td>241</td>\n",
       "      <td>2_million_aid_humanitarian_assistance</td>\n",
       "      <td>[million, aid, humanitarian, assistance, fundi...</td>\n",
       "      <td>[The article discusses the commitment of the U...</td>\n",
       "    </tr>\n",
       "    <tr>\n",
       "      <th>3</th>\n",
       "      <td>3</td>\n",
       "      <td>237</td>\n",
       "      <td>3_children_child_unicef_soldiers</td>\n",
       "      <td>[children, child, unicef, soldiers, recruited,...</td>\n",
       "      <td>[The article discusses the recruitment and use...</td>\n",
       "    </tr>\n",
       "    <tr>\n",
       "      <th>4</th>\n",
       "      <td>4</td>\n",
       "      <td>235</td>\n",
       "      <td>4_human_rights_commission_crimes</td>\n",
       "      <td>[human, rights, commission, crimes, abuses, vi...</td>\n",
       "      <td>[The article discusses the celebration of Huma...</td>\n",
       "    </tr>\n",
       "    <tr>\n",
       "      <th>...</th>\n",
       "      <td>...</td>\n",
       "      <td>...</td>\n",
       "      <td>...</td>\n",
       "      <td>...</td>\n",
       "      <td>...</td>\n",
       "    </tr>\n",
       "    <tr>\n",
       "      <th>145</th>\n",
       "      <td>145</td>\n",
       "      <td>42</td>\n",
       "      <td>145_hiv_hivaids_fistula_aids</td>\n",
       "      <td>[hiv, hivaids, fistula, aids, testing, obstetr...</td>\n",
       "      <td>[The article discusses World AIDS Day in South...</td>\n",
       "    </tr>\n",
       "    <tr>\n",
       "      <th>146</th>\n",
       "      <td>146</td>\n",
       "      <td>36</td>\n",
       "      <td>146_kerry_kerrys_john_secretary</td>\n",
       "      <td>[kerry, kerrys, john, secretary, angola, meet,...</td>\n",
       "      <td>[The article discusses US Secretary of State J...</td>\n",
       "    </tr>\n",
       "    <tr>\n",
       "      <th>147</th>\n",
       "      <td>147</td>\n",
       "      <td>34</td>\n",
       "      <td>147_pension_pensioners_pensions_payroll</td>\n",
       "      <td>[pension, pensioners, pensions, payroll, serva...</td>\n",
       "      <td>[The article discusses the suffering of retire...</td>\n",
       "    </tr>\n",
       "    <tr>\n",
       "      <th>148</th>\n",
       "      <td>148</td>\n",
       "      <td>31</td>\n",
       "      <td>148_icglr_great_angola_lakes</td>\n",
       "      <td>[icglr, great, angola, lakes, luanda, burundi,...</td>\n",
       "      <td>[The article discusses the International Confe...</td>\n",
       "    </tr>\n",
       "    <tr>\n",
       "      <th>149</th>\n",
       "      <td>149</td>\n",
       "      <td>26</td>\n",
       "      <td>149_penalty_death_executions_moratorium</td>\n",
       "      <td>[penalty, death, executions, moratorium, aboli...</td>\n",
       "      <td>[The article discusses the issue of South Suda...</td>\n",
       "    </tr>\n",
       "  </tbody>\n",
       "</table>\n",
       "<p>150 rows × 5 columns</p>\n",
       "</div>"
      ],
      "text/plain": [
       "     Topic  Count                                     Name  \\\n",
       "0        0    256                 0_murle_jonglei_lou_nuer   \n",
       "1        1    250          1_refugees_refugee_uganda_unhcr   \n",
       "2        2    241    2_million_aid_humanitarian_assistance   \n",
       "3        3    237         3_children_child_unicef_soldiers   \n",
       "4        4    235         4_human_rights_commission_crimes   \n",
       "..     ...    ...                                      ...   \n",
       "145    145     42             145_hiv_hivaids_fistula_aids   \n",
       "146    146     36          146_kerry_kerrys_john_secretary   \n",
       "147    147     34  147_pension_pensioners_pensions_payroll   \n",
       "148    148     31             148_icglr_great_angola_lakes   \n",
       "149    149     26  149_penalty_death_executions_moratorium   \n",
       "\n",
       "                                        Representation  \\\n",
       "0    [murle, jonglei, lou, nuer, pibor, cattle, cou...   \n",
       "1    [refugees, refugee, uganda, unhcr, district, c...   \n",
       "2    [million, aid, humanitarian, assistance, fundi...   \n",
       "3    [children, child, unicef, soldiers, recruited,...   \n",
       "4    [human, rights, commission, crimes, abuses, vi...   \n",
       "..                                                 ...   \n",
       "145  [hiv, hivaids, fistula, aids, testing, obstetr...   \n",
       "146  [kerry, kerrys, john, secretary, angola, meet,...   \n",
       "147  [pension, pensioners, pensions, payroll, serva...   \n",
       "148  [icglr, great, angola, lakes, luanda, burundi,...   \n",
       "149  [penalty, death, executions, moratorium, aboli...   \n",
       "\n",
       "                                   Representative_Docs  \n",
       "0    [The article discusses an attack by armed Lou-...  \n",
       "1    [The article discusses the influx of South Sud...  \n",
       "2    [The article discusses the commitment of the U...  \n",
       "3    [The article discusses the recruitment and use...  \n",
       "4    [The article discusses the celebration of Huma...  \n",
       "..                                                 ...  \n",
       "145  [The article discusses World AIDS Day in South...  \n",
       "146  [The article discusses US Secretary of State J...  \n",
       "147  [The article discusses the suffering of retire...  \n",
       "148  [The article discusses the International Confe...  \n",
       "149  [The article discusses the issue of South Suda...  \n",
       "\n",
       "[150 rows x 5 columns]"
      ]
     },
     "execution_count": 65,
     "metadata": {},
     "output_type": "execute_result"
    }
   ],
   "source": [
    "from sklearn.feature_extraction.text import CountVectorizer\n",
    "vectorizer_model = CountVectorizer(stop_words=\"english\")\n",
    "kmeans_model = KMeans(n_clusters=150, random_state=42)\n",
    "\n",
    "if os.path.exists('southsudan_model11'):\n",
    "    bertopic_VM_KM = BERTopic.load('southsudan_model11')\n",
    "else:\n",
    "    bertopic_VM_KM = BERTopic(language=\"english\", calculate_probabilities=True, verbose=True, umap_model=umap_model, vectorizer_model=vectorizer_model, hdbscan_model=kmeans_model)\n",
    "    bertopic_VM_KM.fit_transform(docs)\n",
    "    bertopic_VM_KM.save(\"southsudan_model11\")\n",
    "\n",
    "bertopic_VM_KM.get_topic_info()"
   ]
  },
  {
   "cell_type": "markdown",
   "metadata": {},
   "source": [
    "## remove stopwords PCA"
   ]
  },
  {
   "cell_type": "code",
   "execution_count": null,
   "metadata": {},
   "outputs": [],
   "source": [
    "from sklearn.feature_extraction.text import CountVectorizer\n",
    "pca_model = PCA(random_state=42, n_components=150)\n",
    "vectorizer_model = CountVectorizer(stop_words=\"english\")\n",
    "\n",
    "if os.path.exists('southsudan_model18'):\n",
    "    bertopic_VM_PCA = BERTopic.load('southsudan_model18')\n",
    "else:\n",
    "    bertopic_VM_PCA = BERTopic(language=\"english\", calculate_probabilities=True, verbose=True, umap_model=pca_model, vectorizer_model=vectorizer_model)\n",
    "    bertopic_VM_PCA.fit_transform(docs)\n",
    "    bertopic_VM_PCA.save(\"southsudan_model18\")\n",
    "\n",
    "bertopic_VM_PCA.get_topic_info()"
   ]
  },
  {
   "cell_type": "markdown",
   "metadata": {
    "collapsed": false,
    "jupyter": {
     "outputs_hidden": false
    },
    "pycharm": {
     "name": "#%% md\n"
    }
   },
   "source": [
    "## remove stopwords and PCA and KM"
   ]
  },
  {
   "cell_type": "code",
   "execution_count": 43,
   "metadata": {
    "collapsed": false,
    "jupyter": {
     "outputs_hidden": false
    },
    "pycharm": {
     "name": "#%%\n"
    }
   },
   "outputs": [
    {
     "data": {
      "text/html": [
       "<div>\n",
       "<style scoped>\n",
       "    .dataframe tbody tr th:only-of-type {\n",
       "        vertical-align: middle;\n",
       "    }\n",
       "\n",
       "    .dataframe tbody tr th {\n",
       "        vertical-align: top;\n",
       "    }\n",
       "\n",
       "    .dataframe thead th {\n",
       "        text-align: right;\n",
       "    }\n",
       "</style>\n",
       "<table border=\"1\" class=\"dataframe\">\n",
       "  <thead>\n",
       "    <tr style=\"text-align: right;\">\n",
       "      <th></th>\n",
       "      <th>Topic</th>\n",
       "      <th>Count</th>\n",
       "      <th>Name</th>\n",
       "      <th>Representation</th>\n",
       "      <th>Representative_Docs</th>\n",
       "    </tr>\n",
       "  </thead>\n",
       "  <tbody>\n",
       "    <tr>\n",
       "      <th>0</th>\n",
       "      <td>0</td>\n",
       "      <td>1794</td>\n",
       "      <td>0_peace_south_sudan_agreement</td>\n",
       "      <td>[peace, south, sudan, agreement, article, talk...</td>\n",
       "      <td>[The article discusses the opening of the seco...</td>\n",
       "    </tr>\n",
       "    <tr>\n",
       "      <th>1</th>\n",
       "      <td>1</td>\n",
       "      <td>1625</td>\n",
       "      <td>1_president_kiir_machar_salva</td>\n",
       "      <td>[president, kiir, machar, salva, riek, south, ...</td>\n",
       "      <td>[The article discusses China's welcoming of th...</td>\n",
       "    </tr>\n",
       "    <tr>\n",
       "      <th>2</th>\n",
       "      <td>2</td>\n",
       "      <td>1453</td>\n",
       "      <td>2_article_south_sudan_discusses</td>\n",
       "      <td>[article, south, sudan, discusses, author, gov...</td>\n",
       "      <td>[The article discusses the history of politica...</td>\n",
       "    </tr>\n",
       "    <tr>\n",
       "      <th>3</th>\n",
       "      <td>3</td>\n",
       "      <td>1403</td>\n",
       "      <td>3_state_south_sudan_article</td>\n",
       "      <td>[state, south, sudan, article, army, forces, d...</td>\n",
       "      <td>[The article discusses how South Sudan army re...</td>\n",
       "    </tr>\n",
       "    <tr>\n",
       "      <th>4</th>\n",
       "      <td>4</td>\n",
       "      <td>1387</td>\n",
       "      <td>4_south_article_discusses_juba</td>\n",
       "      <td>[south, article, discusses, juba, journalists,...</td>\n",
       "      <td>[The article discusses the 24-hour work stoppa...</td>\n",
       "    </tr>\n",
       "    <tr>\n",
       "      <th>5</th>\n",
       "      <td>5</td>\n",
       "      <td>1351</td>\n",
       "      <td>5_south_sudan_article_discusses</td>\n",
       "      <td>[south, sudan, article, discusses, bank, juba,...</td>\n",
       "      <td>[The article discusses the African Development...</td>\n",
       "    </tr>\n",
       "    <tr>\n",
       "      <th>6</th>\n",
       "      <td>6</td>\n",
       "      <td>1328</td>\n",
       "      <td>6_food_million_people_south</td>\n",
       "      <td>[food, million, people, south, aid, health, hu...</td>\n",
       "      <td>[The article discusses the dire food insecurit...</td>\n",
       "    </tr>\n",
       "    <tr>\n",
       "      <th>7</th>\n",
       "      <td>7</td>\n",
       "      <td>1259</td>\n",
       "      <td>7_abyei_sudan_border_south</td>\n",
       "      <td>[abyei, sudan, border, south, security, articl...</td>\n",
       "      <td>[The article discusses the African Union Peace...</td>\n",
       "    </tr>\n",
       "    <tr>\n",
       "      <th>8</th>\n",
       "      <td>8</td>\n",
       "      <td>1226</td>\n",
       "      <td>8_president_sudan_south_article</td>\n",
       "      <td>[president, sudan, south, article, visit, disc...</td>\n",
       "      <td>[The article discusses a meeting between the V...</td>\n",
       "    </tr>\n",
       "    <tr>\n",
       "      <th>9</th>\n",
       "      <td>9</td>\n",
       "      <td>1183</td>\n",
       "      <td>9_rights_human_violence_south</td>\n",
       "      <td>[rights, human, violence, south, civilians, su...</td>\n",
       "      <td>[The article discusses a letter addressed to P...</td>\n",
       "    </tr>\n",
       "    <tr>\n",
       "      <th>10</th>\n",
       "      <td>10</td>\n",
       "      <td>1098</td>\n",
       "      <td>10_refugees_south_refugee_people</td>\n",
       "      <td>[refugees, south, refugee, people, sudan, aid,...</td>\n",
       "      <td>[The article discusses the increasing number o...</td>\n",
       "    </tr>\n",
       "    <tr>\n",
       "      <th>11</th>\n",
       "      <td>11</td>\n",
       "      <td>1036</td>\n",
       "      <td>11_education_south_article_sudan</td>\n",
       "      <td>[education, south, article, sudan, discusses, ...</td>\n",
       "      <td>[The article discusses the performance of seco...</td>\n",
       "    </tr>\n",
       "    <tr>\n",
       "      <th>12</th>\n",
       "      <td>12</td>\n",
       "      <td>925</td>\n",
       "      <td>12_oil_sudan_south_sudans</td>\n",
       "      <td>[oil, sudan, south, sudans, production, articl...</td>\n",
       "      <td>[The article discusses South Sudan's decision ...</td>\n",
       "    </tr>\n",
       "    <tr>\n",
       "      <th>13</th>\n",
       "      <td>13</td>\n",
       "      <td>827</td>\n",
       "      <td>13_south_sudan_mission_peacekeeping</td>\n",
       "      <td>[south, sudan, mission, peacekeeping, article,...</td>\n",
       "      <td>[The article discusses Rwanda's deployment of ...</td>\n",
       "    </tr>\n",
       "    <tr>\n",
       "      <th>14</th>\n",
       "      <td>14</td>\n",
       "      <td>625</td>\n",
       "      <td>14_state_governor_article_discusses</td>\n",
       "      <td>[state, governor, article, discusses, juba, co...</td>\n",
       "      <td>[The article discusses the killing of a senior...</td>\n",
       "    </tr>\n",
       "  </tbody>\n",
       "</table>\n",
       "</div>"
      ],
      "text/plain": [
       "    Topic  Count                                 Name  \\\n",
       "0       0   1794        0_peace_south_sudan_agreement   \n",
       "1       1   1625        1_president_kiir_machar_salva   \n",
       "2       2   1453      2_article_south_sudan_discusses   \n",
       "3       3   1403          3_state_south_sudan_article   \n",
       "4       4   1387       4_south_article_discusses_juba   \n",
       "5       5   1351      5_south_sudan_article_discusses   \n",
       "6       6   1328          6_food_million_people_south   \n",
       "7       7   1259           7_abyei_sudan_border_south   \n",
       "8       8   1226      8_president_sudan_south_article   \n",
       "9       9   1183        9_rights_human_violence_south   \n",
       "10     10   1098     10_refugees_south_refugee_people   \n",
       "11     11   1036     11_education_south_article_sudan   \n",
       "12     12    925            12_oil_sudan_south_sudans   \n",
       "13     13    827  13_south_sudan_mission_peacekeeping   \n",
       "14     14    625  14_state_governor_article_discusses   \n",
       "\n",
       "                                       Representation  \\\n",
       "0   [peace, south, sudan, agreement, article, talk...   \n",
       "1   [president, kiir, machar, salva, riek, south, ...   \n",
       "2   [article, south, sudan, discusses, author, gov...   \n",
       "3   [state, south, sudan, article, army, forces, d...   \n",
       "4   [south, article, discusses, juba, journalists,...   \n",
       "5   [south, sudan, article, discusses, bank, juba,...   \n",
       "6   [food, million, people, south, aid, health, hu...   \n",
       "7   [abyei, sudan, border, south, security, articl...   \n",
       "8   [president, sudan, south, article, visit, disc...   \n",
       "9   [rights, human, violence, south, civilians, su...   \n",
       "10  [refugees, south, refugee, people, sudan, aid,...   \n",
       "11  [education, south, article, sudan, discusses, ...   \n",
       "12  [oil, sudan, south, sudans, production, articl...   \n",
       "13  [south, sudan, mission, peacekeeping, article,...   \n",
       "14  [state, governor, article, discusses, juba, co...   \n",
       "\n",
       "                                  Representative_Docs  \n",
       "0   [The article discusses the opening of the seco...  \n",
       "1   [The article discusses China's welcoming of th...  \n",
       "2   [The article discusses the history of politica...  \n",
       "3   [The article discusses how South Sudan army re...  \n",
       "4   [The article discusses the 24-hour work stoppa...  \n",
       "5   [The article discusses the African Development...  \n",
       "6   [The article discusses the dire food insecurit...  \n",
       "7   [The article discusses the African Union Peace...  \n",
       "8   [The article discusses a meeting between the V...  \n",
       "9   [The article discusses a letter addressed to P...  \n",
       "10  [The article discusses the increasing number o...  \n",
       "11  [The article discusses the performance of seco...  \n",
       "12  [The article discusses South Sudan's decision ...  \n",
       "13  [The article discusses Rwanda's deployment of ...  \n",
       "14  [The article discusses the killing of a senior...  "
      ]
     },
     "execution_count": 43,
     "metadata": {},
     "output_type": "execute_result"
    }
   ],
   "source": [
    "from sklearn.feature_extraction.text import CountVectorizer\n",
    "pca_model = PCA(random_state=42, n_components=50)\n",
    "vectorizer_model = CountVectorizer(stop_words=\"english\")\n",
    "kmeans_model = KMeans(n_clusters=50, random_state=42)\n",
    "\n",
    "if os.path.exists('southsudan_model12'):\n",
    "    bertopic_VM_KM_PCA = BERTopic.load('southsudan_model12')\n",
    "else:\n",
    "    bertopic_VM_KM_PCA = BERTopic(language=\"english\", calculate_probabilities=True, verbose=True, umap_model=pca_model, vectorizer_model=vectorizer_model, hdbscan_model=kmeans_model)\n",
    "    bertopic_VM_KM_PCA.fit_transform(docs)\n",
    "    bertopic_VM_KM_PCA.save(\"southsudan_model12\")\n",
    "\n",
    "bertopic_VM_KM_PCA.get_topic_info()"
   ]
  },
  {
   "cell_type": "markdown",
   "metadata": {},
   "source": [
    "## remove stopwords and KM and n-gram"
   ]
  },
  {
   "cell_type": "code",
   "execution_count": 66,
   "metadata": {},
   "outputs": [
    {
     "data": {
      "application/vnd.jupyter.widget-view+json": {
       "model_id": "3b9dd8cbd4a447f9b33ba9373d3c846c",
       "version_major": 2,
       "version_minor": 0
      },
      "text/plain": [
       "Batches:   0%|          | 0/579 [00:00<?, ?it/s]"
      ]
     },
     "metadata": {},
     "output_type": "display_data"
    },
    {
     "name": "stderr",
     "output_type": "stream",
     "text": [
      "2023-09-21 17:07:32,783 - BERTopic - Transformed documents to Embeddings\n",
      "2023-09-21 17:07:44,664 - BERTopic - Reduced dimensionality\n",
      "2023-09-21 17:07:47,314 - BERTopic - Clustered reduced embeddings\n"
     ]
    },
    {
     "data": {
      "text/html": [
       "<div>\n",
       "<style scoped>\n",
       "    .dataframe tbody tr th:only-of-type {\n",
       "        vertical-align: middle;\n",
       "    }\n",
       "\n",
       "    .dataframe tbody tr th {\n",
       "        vertical-align: top;\n",
       "    }\n",
       "\n",
       "    .dataframe thead th {\n",
       "        text-align: right;\n",
       "    }\n",
       "</style>\n",
       "<table border=\"1\" class=\"dataframe\">\n",
       "  <thead>\n",
       "    <tr style=\"text-align: right;\">\n",
       "      <th></th>\n",
       "      <th>Topic</th>\n",
       "      <th>Count</th>\n",
       "      <th>Name</th>\n",
       "      <th>Representation</th>\n",
       "      <th>Representative_Docs</th>\n",
       "    </tr>\n",
       "  </thead>\n",
       "  <tbody>\n",
       "    <tr>\n",
       "      <th>0</th>\n",
       "      <td>0</td>\n",
       "      <td>256</td>\n",
       "      <td>0_murle_jonglei_lou_nuer</td>\n",
       "      <td>[murle, jonglei, lou, nuer, pibor, cattle, cou...</td>\n",
       "      <td>[The article discusses an attack by armed Lou-...</td>\n",
       "    </tr>\n",
       "    <tr>\n",
       "      <th>1</th>\n",
       "      <td>1</td>\n",
       "      <td>250</td>\n",
       "      <td>1_refugees_refugee_uganda_unhcr</td>\n",
       "      <td>[refugees, refugee, uganda, unhcr, district, c...</td>\n",
       "      <td>[The article discusses the influx of South Sud...</td>\n",
       "    </tr>\n",
       "    <tr>\n",
       "      <th>2</th>\n",
       "      <td>2</td>\n",
       "      <td>241</td>\n",
       "      <td>2_million_aid_humanitarian_assistance</td>\n",
       "      <td>[million, aid, humanitarian, assistance, fundi...</td>\n",
       "      <td>[The article discusses the commitment of the U...</td>\n",
       "    </tr>\n",
       "    <tr>\n",
       "      <th>3</th>\n",
       "      <td>3</td>\n",
       "      <td>237</td>\n",
       "      <td>3_children_child_unicef_soldiers</td>\n",
       "      <td>[children, child, unicef, soldiers, recruited,...</td>\n",
       "      <td>[The article discusses the recruitment and use...</td>\n",
       "    </tr>\n",
       "    <tr>\n",
       "      <th>4</th>\n",
       "      <td>4</td>\n",
       "      <td>235</td>\n",
       "      <td>4_human_rights_commission_crimes</td>\n",
       "      <td>[human, rights, commission, crimes, abuses, vi...</td>\n",
       "      <td>[The article discusses the celebration of Huma...</td>\n",
       "    </tr>\n",
       "    <tr>\n",
       "      <th>...</th>\n",
       "      <td>...</td>\n",
       "      <td>...</td>\n",
       "      <td>...</td>\n",
       "      <td>...</td>\n",
       "      <td>...</td>\n",
       "    </tr>\n",
       "    <tr>\n",
       "      <th>145</th>\n",
       "      <td>145</td>\n",
       "      <td>42</td>\n",
       "      <td>145_hiv_hivaids_fistula_aids</td>\n",
       "      <td>[hiv, hivaids, fistula, aids, testing, obstetr...</td>\n",
       "      <td>[The article discusses World AIDS Day in South...</td>\n",
       "    </tr>\n",
       "    <tr>\n",
       "      <th>146</th>\n",
       "      <td>146</td>\n",
       "      <td>36</td>\n",
       "      <td>146_kerry_kerrys_john_secretary</td>\n",
       "      <td>[kerry, kerrys, john, secretary, angola, meet,...</td>\n",
       "      <td>[The article discusses US Secretary of State J...</td>\n",
       "    </tr>\n",
       "    <tr>\n",
       "      <th>147</th>\n",
       "      <td>147</td>\n",
       "      <td>34</td>\n",
       "      <td>147_pension_pensioners_pensions_payroll</td>\n",
       "      <td>[pension, pensioners, pensions, payroll, serva...</td>\n",
       "      <td>[The article discusses the suffering of retire...</td>\n",
       "    </tr>\n",
       "    <tr>\n",
       "      <th>148</th>\n",
       "      <td>148</td>\n",
       "      <td>31</td>\n",
       "      <td>148_icglr_great_angola_lakes</td>\n",
       "      <td>[icglr, great, angola, lakes, luanda, burundi,...</td>\n",
       "      <td>[The article discusses the International Confe...</td>\n",
       "    </tr>\n",
       "    <tr>\n",
       "      <th>149</th>\n",
       "      <td>149</td>\n",
       "      <td>26</td>\n",
       "      <td>149_penalty_death_executions_moratorium</td>\n",
       "      <td>[penalty, death, executions, moratorium, aboli...</td>\n",
       "      <td>[The article discusses the issue of South Suda...</td>\n",
       "    </tr>\n",
       "  </tbody>\n",
       "</table>\n",
       "<p>150 rows × 5 columns</p>\n",
       "</div>"
      ],
      "text/plain": [
       "     Topic  Count                                     Name  \\\n",
       "0        0    256                 0_murle_jonglei_lou_nuer   \n",
       "1        1    250          1_refugees_refugee_uganda_unhcr   \n",
       "2        2    241    2_million_aid_humanitarian_assistance   \n",
       "3        3    237         3_children_child_unicef_soldiers   \n",
       "4        4    235         4_human_rights_commission_crimes   \n",
       "..     ...    ...                                      ...   \n",
       "145    145     42             145_hiv_hivaids_fistula_aids   \n",
       "146    146     36          146_kerry_kerrys_john_secretary   \n",
       "147    147     34  147_pension_pensioners_pensions_payroll   \n",
       "148    148     31             148_icglr_great_angola_lakes   \n",
       "149    149     26  149_penalty_death_executions_moratorium   \n",
       "\n",
       "                                        Representation  \\\n",
       "0    [murle, jonglei, lou, nuer, pibor, cattle, cou...   \n",
       "1    [refugees, refugee, uganda, unhcr, district, c...   \n",
       "2    [million, aid, humanitarian, assistance, fundi...   \n",
       "3    [children, child, unicef, soldiers, recruited,...   \n",
       "4    [human, rights, commission, crimes, abuses, vi...   \n",
       "..                                                 ...   \n",
       "145  [hiv, hivaids, fistula, aids, testing, obstetr...   \n",
       "146  [kerry, kerrys, john, secretary, angola, meet,...   \n",
       "147  [pension, pensioners, pensions, payroll, serva...   \n",
       "148  [icglr, great, angola, lakes, luanda, burundi,...   \n",
       "149  [penalty, death, executions, moratorium, aboli...   \n",
       "\n",
       "                                   Representative_Docs  \n",
       "0    [The article discusses an attack by armed Lou-...  \n",
       "1    [The article discusses the influx of South Sud...  \n",
       "2    [The article discusses the commitment of the U...  \n",
       "3    [The article discusses the recruitment and use...  \n",
       "4    [The article discusses the celebration of Huma...  \n",
       "..                                                 ...  \n",
       "145  [The article discusses World AIDS Day in South...  \n",
       "146  [The article discusses US Secretary of State J...  \n",
       "147  [The article discusses the suffering of retire...  \n",
       "148  [The article discusses the International Confe...  \n",
       "149  [The article discusses the issue of South Suda...  \n",
       "\n",
       "[150 rows x 5 columns]"
      ]
     },
     "execution_count": 66,
     "metadata": {},
     "output_type": "execute_result"
    }
   ],
   "source": [
    "from sklearn.feature_extraction.text import CountVectorizer\n",
    "vectorizer_model = CountVectorizer(stop_words=\"english\")\n",
    "kmeans_model = KMeans(n_clusters=150, random_state=42)\n",
    "\n",
    "if os.path.exists('southsudan_model16'):\n",
    "    bertopic_VM_KM_NG = BERTopic.load('southsudan_model16')\n",
    "else:\n",
    "    bertopic_VM_KM_NG = BERTopic(language=\"english\", calculate_probabilities=True, verbose=True, umap_model=umap_model, vectorizer_model=vectorizer_model, hdbscan_model=kmeans_model, n_gram_range=(1, 3))\n",
    "    bertopic_VM_KM_NG.fit_transform(docs)\n",
    "    bertopic_VM_KM_NG.save(\"southsudan_model16\")\n",
    "\n",
    "bertopic_VM_KM_NG.get_topic_info()"
   ]
  },
  {
   "cell_type": "markdown",
   "metadata": {},
   "source": [
    "## remove stopwords and PCA and n-gram"
   ]
  },
  {
   "cell_type": "code",
   "execution_count": null,
   "metadata": {},
   "outputs": [],
   "source": [
    "from sklearn.feature_extraction.text import CountVectorizer\n",
    "vectorizer_model = CountVectorizer(stop_words=\"english\")\n",
    "pca_model = PCA(random_state=42, n_components=150)\n",
    "\n",
    "#if os.path.exists('southsudan_model19'):\n",
    "#    bertopic_VM_PCA_NG = BERTopic.load('southsudan_model19')\n",
    "#else:\n",
    "bertopic_VM_PCA_NG = BERTopic(language=\"english\", calculate_probabilities=True, verbose=True, vectorizer_model=vectorizer_model, umap_model=pca_model, n_gram_range=(1, 3))\n",
    "bertopic_VM_PCA_NG.fit_transform(docs)\n",
    "bertopic_VM_PCA_NG.save(\"southsudan_model19\")\n",
    "\n",
    "bertopic_VM_PCA_NG.get_topic_info()"
   ]
  },
  {
   "cell_type": "markdown",
   "metadata": {
    "collapsed": false,
    "jupyter": {
     "outputs_hidden": false
    },
    "pycharm": {
     "name": "#%% md\n"
    }
   },
   "source": [
    "## remove stopwords and PCA and KM and n-gram"
   ]
  },
  {
   "cell_type": "code",
   "execution_count": 44,
   "metadata": {
    "collapsed": false,
    "jupyter": {
     "outputs_hidden": false
    },
    "pycharm": {
     "name": "#%%\n"
    }
   },
   "outputs": [
    {
     "data": {
      "text/html": [
       "<div>\n",
       "<style scoped>\n",
       "    .dataframe tbody tr th:only-of-type {\n",
       "        vertical-align: middle;\n",
       "    }\n",
       "\n",
       "    .dataframe tbody tr th {\n",
       "        vertical-align: top;\n",
       "    }\n",
       "\n",
       "    .dataframe thead th {\n",
       "        text-align: right;\n",
       "    }\n",
       "</style>\n",
       "<table border=\"1\" class=\"dataframe\">\n",
       "  <thead>\n",
       "    <tr style=\"text-align: right;\">\n",
       "      <th></th>\n",
       "      <th>Topic</th>\n",
       "      <th>Count</th>\n",
       "      <th>Name</th>\n",
       "      <th>Representation</th>\n",
       "      <th>Representative_Docs</th>\n",
       "    </tr>\n",
       "  </thead>\n",
       "  <tbody>\n",
       "    <tr>\n",
       "      <th>0</th>\n",
       "      <td>0</td>\n",
       "      <td>1794</td>\n",
       "      <td>0_peace_south_sudan_agreement</td>\n",
       "      <td>[peace, south, sudan, agreement, article, talk...</td>\n",
       "      <td>[The article discusses the opening of the seco...</td>\n",
       "    </tr>\n",
       "    <tr>\n",
       "      <th>1</th>\n",
       "      <td>1</td>\n",
       "      <td>1625</td>\n",
       "      <td>1_president_kiir_machar_salva</td>\n",
       "      <td>[president, kiir, machar, salva, riek, south, ...</td>\n",
       "      <td>[The article discusses China's welcoming of th...</td>\n",
       "    </tr>\n",
       "    <tr>\n",
       "      <th>2</th>\n",
       "      <td>2</td>\n",
       "      <td>1453</td>\n",
       "      <td>2_article_south_sudan_discusses</td>\n",
       "      <td>[article, south, sudan, discusses, author, gov...</td>\n",
       "      <td>[The article discusses the history of politica...</td>\n",
       "    </tr>\n",
       "    <tr>\n",
       "      <th>3</th>\n",
       "      <td>3</td>\n",
       "      <td>1403</td>\n",
       "      <td>3_state_south_sudan_article</td>\n",
       "      <td>[state, south, sudan, article, army, forces, d...</td>\n",
       "      <td>[The article discusses how South Sudan army re...</td>\n",
       "    </tr>\n",
       "    <tr>\n",
       "      <th>4</th>\n",
       "      <td>4</td>\n",
       "      <td>1387</td>\n",
       "      <td>4_south_article_discusses_juba</td>\n",
       "      <td>[south, article, discusses, juba, journalists,...</td>\n",
       "      <td>[The article discusses the 24-hour work stoppa...</td>\n",
       "    </tr>\n",
       "    <tr>\n",
       "      <th>5</th>\n",
       "      <td>5</td>\n",
       "      <td>1351</td>\n",
       "      <td>5_south_sudan_article_discusses</td>\n",
       "      <td>[south, sudan, article, discusses, bank, juba,...</td>\n",
       "      <td>[The article discusses the African Development...</td>\n",
       "    </tr>\n",
       "    <tr>\n",
       "      <th>6</th>\n",
       "      <td>6</td>\n",
       "      <td>1328</td>\n",
       "      <td>6_food_million_people_south</td>\n",
       "      <td>[food, million, people, south, aid, health, hu...</td>\n",
       "      <td>[The article discusses the dire food insecurit...</td>\n",
       "    </tr>\n",
       "    <tr>\n",
       "      <th>7</th>\n",
       "      <td>7</td>\n",
       "      <td>1259</td>\n",
       "      <td>7_abyei_sudan_border_south</td>\n",
       "      <td>[abyei, sudan, border, south, security, articl...</td>\n",
       "      <td>[The article discusses the African Union Peace...</td>\n",
       "    </tr>\n",
       "    <tr>\n",
       "      <th>8</th>\n",
       "      <td>8</td>\n",
       "      <td>1226</td>\n",
       "      <td>8_president_sudan_south_article</td>\n",
       "      <td>[president, sudan, south, article, visit, disc...</td>\n",
       "      <td>[The article discusses a meeting between the V...</td>\n",
       "    </tr>\n",
       "    <tr>\n",
       "      <th>9</th>\n",
       "      <td>9</td>\n",
       "      <td>1183</td>\n",
       "      <td>9_rights_human_violence_south</td>\n",
       "      <td>[rights, human, violence, south, civilians, su...</td>\n",
       "      <td>[The article discusses a letter addressed to P...</td>\n",
       "    </tr>\n",
       "    <tr>\n",
       "      <th>10</th>\n",
       "      <td>10</td>\n",
       "      <td>1098</td>\n",
       "      <td>10_refugees_south_refugee_people</td>\n",
       "      <td>[refugees, south, refugee, people, sudan, aid,...</td>\n",
       "      <td>[The article discusses the increasing number o...</td>\n",
       "    </tr>\n",
       "    <tr>\n",
       "      <th>11</th>\n",
       "      <td>11</td>\n",
       "      <td>1036</td>\n",
       "      <td>11_education_south_article_sudan</td>\n",
       "      <td>[education, south, article, sudan, discusses, ...</td>\n",
       "      <td>[The article discusses the performance of seco...</td>\n",
       "    </tr>\n",
       "    <tr>\n",
       "      <th>12</th>\n",
       "      <td>12</td>\n",
       "      <td>925</td>\n",
       "      <td>12_oil_sudan_south_sudans</td>\n",
       "      <td>[oil, sudan, south, sudans, production, articl...</td>\n",
       "      <td>[The article discusses South Sudan's decision ...</td>\n",
       "    </tr>\n",
       "    <tr>\n",
       "      <th>13</th>\n",
       "      <td>13</td>\n",
       "      <td>827</td>\n",
       "      <td>13_south_sudan_mission_peacekeeping</td>\n",
       "      <td>[south, sudan, mission, peacekeeping, article,...</td>\n",
       "      <td>[The article discusses Rwanda's deployment of ...</td>\n",
       "    </tr>\n",
       "    <tr>\n",
       "      <th>14</th>\n",
       "      <td>14</td>\n",
       "      <td>625</td>\n",
       "      <td>14_state_governor_article_discusses</td>\n",
       "      <td>[state, governor, article, discusses, juba, co...</td>\n",
       "      <td>[The article discusses the killing of a senior...</td>\n",
       "    </tr>\n",
       "  </tbody>\n",
       "</table>\n",
       "</div>"
      ],
      "text/plain": [
       "    Topic  Count                                 Name  \\\n",
       "0       0   1794        0_peace_south_sudan_agreement   \n",
       "1       1   1625        1_president_kiir_machar_salva   \n",
       "2       2   1453      2_article_south_sudan_discusses   \n",
       "3       3   1403          3_state_south_sudan_article   \n",
       "4       4   1387       4_south_article_discusses_juba   \n",
       "5       5   1351      5_south_sudan_article_discusses   \n",
       "6       6   1328          6_food_million_people_south   \n",
       "7       7   1259           7_abyei_sudan_border_south   \n",
       "8       8   1226      8_president_sudan_south_article   \n",
       "9       9   1183        9_rights_human_violence_south   \n",
       "10     10   1098     10_refugees_south_refugee_people   \n",
       "11     11   1036     11_education_south_article_sudan   \n",
       "12     12    925            12_oil_sudan_south_sudans   \n",
       "13     13    827  13_south_sudan_mission_peacekeeping   \n",
       "14     14    625  14_state_governor_article_discusses   \n",
       "\n",
       "                                       Representation  \\\n",
       "0   [peace, south, sudan, agreement, article, talk...   \n",
       "1   [president, kiir, machar, salva, riek, south, ...   \n",
       "2   [article, south, sudan, discusses, author, gov...   \n",
       "3   [state, south, sudan, article, army, forces, d...   \n",
       "4   [south, article, discusses, juba, journalists,...   \n",
       "5   [south, sudan, article, discusses, bank, juba,...   \n",
       "6   [food, million, people, south, aid, health, hu...   \n",
       "7   [abyei, sudan, border, south, security, articl...   \n",
       "8   [president, sudan, south, article, visit, disc...   \n",
       "9   [rights, human, violence, south, civilians, su...   \n",
       "10  [refugees, south, refugee, people, sudan, aid,...   \n",
       "11  [education, south, article, sudan, discusses, ...   \n",
       "12  [oil, sudan, south, sudans, production, articl...   \n",
       "13  [south, sudan, mission, peacekeeping, article,...   \n",
       "14  [state, governor, article, discusses, juba, co...   \n",
       "\n",
       "                                  Representative_Docs  \n",
       "0   [The article discusses the opening of the seco...  \n",
       "1   [The article discusses China's welcoming of th...  \n",
       "2   [The article discusses the history of politica...  \n",
       "3   [The article discusses how South Sudan army re...  \n",
       "4   [The article discusses the 24-hour work stoppa...  \n",
       "5   [The article discusses the African Development...  \n",
       "6   [The article discusses the dire food insecurit...  \n",
       "7   [The article discusses the African Union Peace...  \n",
       "8   [The article discusses a meeting between the V...  \n",
       "9   [The article discusses a letter addressed to P...  \n",
       "10  [The article discusses the increasing number o...  \n",
       "11  [The article discusses the performance of seco...  \n",
       "12  [The article discusses South Sudan's decision ...  \n",
       "13  [The article discusses Rwanda's deployment of ...  \n",
       "14  [The article discusses the killing of a senior...  "
      ]
     },
     "execution_count": 44,
     "metadata": {},
     "output_type": "execute_result"
    }
   ],
   "source": [
    "from sklearn.feature_extraction.text import CountVectorizer\n",
    "pca_model = PCA(random_state=42, n_components=50)\n",
    "vectorizer_model = CountVectorizer(stop_words=\"english\")\n",
    "kmeans_model = KMeans(n_clusters=50, random_state=42)\n",
    "\n",
    "if os.path.exists('southsudan_model13'):\n",
    "    bertopic_VM_KM_PCA_NG = BERTopic.load('southsudan_model13')\n",
    "else:\n",
    "    bertopic_VM_KM_PCA_NG = BERTopic(language=\"english\", calculate_probabilities=True, verbose=True, umap_model=pca_model, vectorizer_model=vectorizer_model, hdbscan_model=kmeans_model, n_gram_range=(1, 3))\n",
    "    bertopic_VM_KM_PCA_NG.fit_transform(docs)\n",
    "    bertopic_VM_KM_PCA_NG.save(\"southsudan_model13\")\n",
    "\n",
    "bertopic_VM_KM_PCA_NG.get_topic_info()"
   ]
  },
  {
   "cell_type": "markdown",
   "metadata": {
    "collapsed": false,
    "jupyter": {
     "outputs_hidden": false
    },
    "pycharm": {
     "name": "#%% md\n"
    }
   },
   "source": [
    "## standard model, remove stopwords and n-gram"
   ]
  },
  {
   "cell_type": "code",
   "execution_count": 45,
   "metadata": {
    "collapsed": false,
    "jupyter": {
     "outputs_hidden": false
    },
    "pycharm": {
     "name": "#%%\n"
    }
   },
   "outputs": [
    {
     "data": {
      "text/html": [
       "<div>\n",
       "<style scoped>\n",
       "    .dataframe tbody tr th:only-of-type {\n",
       "        vertical-align: middle;\n",
       "    }\n",
       "\n",
       "    .dataframe tbody tr th {\n",
       "        vertical-align: top;\n",
       "    }\n",
       "\n",
       "    .dataframe thead th {\n",
       "        text-align: right;\n",
       "    }\n",
       "</style>\n",
       "<table border=\"1\" class=\"dataframe\">\n",
       "  <thead>\n",
       "    <tr style=\"text-align: right;\">\n",
       "      <th></th>\n",
       "      <th>Topic</th>\n",
       "      <th>Count</th>\n",
       "      <th>Name</th>\n",
       "      <th>Representation</th>\n",
       "      <th>Representative_Docs</th>\n",
       "    </tr>\n",
       "  </thead>\n",
       "  <tbody>\n",
       "    <tr>\n",
       "      <th>0</th>\n",
       "      <td>-1</td>\n",
       "      <td>6559</td>\n",
       "      <td>-1_south_sudan_article_discusses</td>\n",
       "      <td>[south, sudan, article, discusses, president, ...</td>\n",
       "      <td>[The article discusses the visit of John Prend...</td>\n",
       "    </tr>\n",
       "    <tr>\n",
       "      <th>1</th>\n",
       "      <td>0</td>\n",
       "      <td>377</td>\n",
       "      <td>0_food_wfp_million_hunger</td>\n",
       "      <td>[food, wfp, million, hunger, famine, assistanc...</td>\n",
       "      <td>[The article discusses the joint crop and food...</td>\n",
       "    </tr>\n",
       "    <tr>\n",
       "      <th>2</th>\n",
       "      <td>1</td>\n",
       "      <td>355</td>\n",
       "      <td>1_kiir_author_kiirs_coup</td>\n",
       "      <td>[kiir, author, kiirs, coup, salva, president, ...</td>\n",
       "      <td>[The article discusses the ongoing conflict an...</td>\n",
       "    </tr>\n",
       "    <tr>\n",
       "      <th>3</th>\n",
       "      <td>2</td>\n",
       "      <td>331</td>\n",
       "      <td>2_abyei_referendum_ngok_area</td>\n",
       "      <td>[abyei, referendum, ngok, area, misseriya, din...</td>\n",
       "      <td>[The article discusses the plan of members of ...</td>\n",
       "    </tr>\n",
       "    <tr>\n",
       "      <th>4</th>\n",
       "      <td>3</td>\n",
       "      <td>227</td>\n",
       "      <td>3_million_aid_humanitarian_funding</td>\n",
       "      <td>[million, aid, humanitarian, funding, emergenc...</td>\n",
       "      <td>[The article discusses the commitment of the U...</td>\n",
       "    </tr>\n",
       "    <tr>\n",
       "      <th>...</th>\n",
       "      <td>...</td>\n",
       "      <td>...</td>\n",
       "      <td>...</td>\n",
       "      <td>...</td>\n",
       "      <td>...</td>\n",
       "    </tr>\n",
       "    <tr>\n",
       "      <th>241</th>\n",
       "      <td>240</td>\n",
       "      <td>10</td>\n",
       "      <td>240_kalaazar_disease_azar_kala</td>\n",
       "      <td>[kalaazar, disease, azar, kala, flies, worm, c...</td>\n",
       "      <td>[The article discusses the progress made in er...</td>\n",
       "    </tr>\n",
       "    <tr>\n",
       "      <th>242</th>\n",
       "      <td>241</td>\n",
       "      <td>10</td>\n",
       "      <td>241_batil_respiratory_refugees_hygiene</td>\n",
       "      <td>[batil, respiratory, refugees, hygiene, tract,...</td>\n",
       "      <td>[The article discusses the health situation of...</td>\n",
       "    </tr>\n",
       "    <tr>\n",
       "      <th>243</th>\n",
       "      <td>242</td>\n",
       "      <td>10</td>\n",
       "      <td>242_comic_defections_conflict_analysts</td>\n",
       "      <td>[comic, defections, conflict, analysts, disban...</td>\n",
       "      <td>[The article discusses the ongoing conflict be...</td>\n",
       "    </tr>\n",
       "    <tr>\n",
       "      <th>244</th>\n",
       "      <td>243</td>\n",
       "      <td>10</td>\n",
       "      <td>243_children_unicef_families_app</td>\n",
       "      <td>[children, unicef, families, app, streets, mil...</td>\n",
       "      <td>[The article discusses how violence and insecu...</td>\n",
       "    </tr>\n",
       "    <tr>\n",
       "      <th>245</th>\n",
       "      <td>244</td>\n",
       "      <td>10</td>\n",
       "      <td>244_outstanding_issues_omer_border</td>\n",
       "      <td>[outstanding, issues, omer, border, mali, high...</td>\n",
       "      <td>[The article discusses the upcoming meeting be...</td>\n",
       "    </tr>\n",
       "  </tbody>\n",
       "</table>\n",
       "<p>246 rows × 5 columns</p>\n",
       "</div>"
      ],
      "text/plain": [
       "     Topic  Count                                    Name  \\\n",
       "0       -1   6559        -1_south_sudan_article_discusses   \n",
       "1        0    377               0_food_wfp_million_hunger   \n",
       "2        1    355                1_kiir_author_kiirs_coup   \n",
       "3        2    331            2_abyei_referendum_ngok_area   \n",
       "4        3    227      3_million_aid_humanitarian_funding   \n",
       "..     ...    ...                                     ...   \n",
       "241    240     10          240_kalaazar_disease_azar_kala   \n",
       "242    241     10  241_batil_respiratory_refugees_hygiene   \n",
       "243    242     10  242_comic_defections_conflict_analysts   \n",
       "244    243     10        243_children_unicef_families_app   \n",
       "245    244     10      244_outstanding_issues_omer_border   \n",
       "\n",
       "                                        Representation  \\\n",
       "0    [south, sudan, article, discusses, president, ...   \n",
       "1    [food, wfp, million, hunger, famine, assistanc...   \n",
       "2    [kiir, author, kiirs, coup, salva, president, ...   \n",
       "3    [abyei, referendum, ngok, area, misseriya, din...   \n",
       "4    [million, aid, humanitarian, funding, emergenc...   \n",
       "..                                                 ...   \n",
       "241  [kalaazar, disease, azar, kala, flies, worm, c...   \n",
       "242  [batil, respiratory, refugees, hygiene, tract,...   \n",
       "243  [comic, defections, conflict, analysts, disban...   \n",
       "244  [children, unicef, families, app, streets, mil...   \n",
       "245  [outstanding, issues, omer, border, mali, high...   \n",
       "\n",
       "                                   Representative_Docs  \n",
       "0    [The article discusses the visit of John Prend...  \n",
       "1    [The article discusses the joint crop and food...  \n",
       "2    [The article discusses the ongoing conflict an...  \n",
       "3    [The article discusses the plan of members of ...  \n",
       "4    [The article discusses the commitment of the U...  \n",
       "..                                                 ...  \n",
       "241  [The article discusses the progress made in er...  \n",
       "242  [The article discusses the health situation of...  \n",
       "243  [The article discusses the ongoing conflict be...  \n",
       "244  [The article discusses how violence and insecu...  \n",
       "245  [The article discusses the upcoming meeting be...  \n",
       "\n",
       "[246 rows x 5 columns]"
      ]
     },
     "execution_count": 45,
     "metadata": {},
     "output_type": "execute_result"
    }
   ],
   "source": [
    "from sklearn.feature_extraction.text import CountVectorizer\n",
    "vectorizer_model = CountVectorizer(stop_words=\"english\")\n",
    "\n",
    "if os.path.exists('southsudan_model14'):\n",
    "    bertopic_VM_NG = BERTopic.load('southsudan_model14')\n",
    "else:\n",
    "    bertopic_VM_NG = BERTopic(language=\"english\", calculate_probabilities=True, verbose=True, umap_model=umap_model, vectorizer_model=vectorizer_model, n_gram_range=(1, 3))\n",
    "    bertopic_VM_NG.fit_transform(docs)\n",
    "    bertopic_VM_NG.save(\"southsudan_model14\")\n",
    "\n",
    "bertopic_VM_NG.get_topic_info()"
   ]
  },
  {
   "cell_type": "markdown",
   "metadata": {},
   "source": [
    "## standard model, remove stopwords and n-gram, diversify"
   ]
  },
  {
   "cell_type": "code",
   "execution_count": null,
   "metadata": {},
   "outputs": [
    {
     "data": {
      "application/vnd.jupyter.widget-view+json": {
       "model_id": "4b8c0c62c29b46a2aef50ef36565e6b5",
       "version_major": 2,
       "version_minor": 0
      },
      "text/plain": [
       "Batches:   0%|          | 0/579 [00:00<?, ?it/s]"
      ]
     },
     "metadata": {},
     "output_type": "display_data"
    }
   ],
   "source": [
    "from sklearn.feature_extraction.text import CountVectorizer\n",
    "from bertopic.representation import MaximalMarginalRelevance\n",
    "vectorizer_model = CountVectorizer(stop_words=\"english\")\n",
    "representation_model = MaximalMarginalRelevance(diversity=0.7)\n",
    "\n",
    "if os.path.exists('southsudan_model15'):\n",
    "    bertopic_VM_NG_D = BERTopic.load('southsudan_model15')\n",
    "else:\n",
    "    bertopic_VM_NG_D = BERTopic(language=\"english\", calculate_probabilities=True, verbose=True, umap_model=umap_model, vectorizer_model=vectorizer_model, n_gram_range=(1, 3), representation_model=representation_model)\n",
    "    bertopic_VM_NG_D.fit_transform(docs)\n",
    "    bertopic_VM_NG_D.save(\"southsudan_model15\")\n",
    "\n",
    "bertopic_VM_NG_D.get_topic_info()"
   ]
  },
  {
   "cell_type": "markdown",
   "metadata": {},
   "source": [
    "## remove stopwords and KM and n-gram, diversify"
   ]
  },
  {
   "cell_type": "code",
   "execution_count": null,
   "metadata": {},
   "outputs": [],
   "source": [
    "from sklearn.feature_extraction.text import CountVectorizer\n",
    "vectorizer_model = CountVectorizer(stop_words=\"english\")\n",
    "kmeans_model = KMeans(n_clusters=50, random_state=42)\n",
    "representation_model = MaximalMarginalRelevance(diversity=0.7)\n",
    "\n",
    "if os.path.exists('southsudan_model17'):\n",
    "    bertopic_VM_KM_NG_D = BERTopic.load('southsudan_model17')\n",
    "else:\n",
    "    bertopic_VM_KM_NG_D = BERTopic(language=\"english\", calculate_probabilities=True, verbose=True, umap_model=umap_model, vectorizer_model=vectorizer_model, hdbscan_model=kmeans_model, n_gram_range=(1, 3), representation_model=representation_model)\n",
    "    bertopic_VM_KM_NG_D.fit_transform(docs)\n",
    "    bertopic_VM_KM_NG_D.save(\"southsudan_model17\")\n",
    "\n",
    "bertopic_VM_KM_NG_D.get_topic_info()"
   ]
  },
  {
   "cell_type": "markdown",
   "metadata": {},
   "source": [
    "## remove stopwords and PCA and n-gram, diversify"
   ]
  },
  {
   "cell_type": "code",
   "execution_count": null,
   "metadata": {},
   "outputs": [],
   "source": [
    "from sklearn.feature_extraction.text import CountVectorizer\n",
    "vectorizer_model = CountVectorizer(stop_words=\"english\")\n",
    "pca_model = PCA(random_state=42, n_components=150)\n",
    "representation_model = MaximalMarginalRelevance(diversity=1)\n",
    "\n",
    "if os.path.exists('southsudan_model20'):\n",
    "    bertopic_VM_PCA_NG_D = BERTopic.load('southsudan_model20')\n",
    "else:\n",
    "    bertopic_VM_PCA_NG_D = BERTopic(language=\"english\", calculate_probabilities=True, verbose=True, vectorizer_model=vectorizer_model, umap_model=pca_model, n_gram_range=(1, 3), representation_model=representation_model)\n",
    "    bertopic_VM_PCA_NG_D.fit_transform(docs)\n",
    "    bertopic_VM_PCA_NG_D.save(\"southsudan_model20\")\n",
    "\n",
    "bertopic_VM_PCA_NG_D.get_topic_info()"
   ]
  },
  {
   "cell_type": "markdown",
   "metadata": {},
   "source": [
    "## wordcloud"
   ]
  },
  {
   "cell_type": "code",
   "execution_count": 28,
   "metadata": {},
   "outputs": [
    {
     "data": {
      "image/png": "[encoded data removed]",
      "text/plain": [
       "<Figure size 640x480 with 1 Axes>"
      ]
     },
     "metadata": {},
     "output_type": "display_data"
    }
   ],
   "source": [
    "from wordcloud import WordCloud\n",
    "import matplotlib.pyplot as plt\n",
    "\n",
    "def create_wordcloud(model, topic):\n",
    "    text = {word: value for word, value in model.get_topic(topic)}\n",
    "    wc = WordCloud(background_color=\"white\", max_words=1000)\n",
    "    wc.generate_from_frequencies(text)\n",
    "    plt.imshow(wc, interpolation=\"bilinear\")\n",
    "    plt.axis(\"off\")\n",
    "    plt.show()\n",
    "\n",
    "# Show wordcloud\n",
    "create_wordcloud(bertopic_VM_NG_D, topic=3)"
   ]
  },
  {
   "cell_type": "markdown",
   "metadata": {
    "collapsed": false,
    "jupyter": {
     "outputs_hidden": false
    },
    "pycharm": {
     "name": "#%% md\n"
    }
   },
   "source": [
    "## Interactive visualization of the vector space\n",
    "\n",
    "As you can see, documents with related topics are close in the space."
   ]
  },
  {
   "cell_type": "code",
   "execution_count": null,
   "metadata": {
    "collapsed": false,
    "jupyter": {
     "outputs_hidden": false
    },
    "pycharm": {
     "name": "#%%\n"
    }
   },
   "outputs": [],
   "source": [
    "bertopic.visualize_documents(docs) # Create a plot of the topics, this may take a while"
   ]
  },
  {
   "cell_type": "markdown",
   "metadata": {
    "collapsed": false,
    "jupyter": {
     "outputs_hidden": false
    },
    "pycharm": {
     "name": "#%% md\n"
    }
   },
   "source": [
    "### Creating smaller topics\n",
    "\n",
    "Within our list of topics, we find topics that are semantically closest to 4 keywords:\n",
    "\n",
    "\"Hunger\", \"Refugees\", \"Conflict\", and \"Humanitarian\".\n",
    "\n",
    "**Feel free to change this approach!**"
   ]
  },
  {
   "cell_type": "code",
   "execution_count": 48,
   "metadata": {
    "collapsed": false,
    "jupyter": {
     "outputs_hidden": false
    },
    "pycharm": {
     "name": "#%%\n"
    }
   },
   "outputs": [],
   "source": [
    "# We create a function to calculate a list of the top n topics related to (a) given keyword(s)\n",
    "\n",
    "def get_relevant_topics(bertopic_model, keywords, top_n):\n",
    "    '''\n",
    "    Retrieve a list of the top n number of relevant topics to the provided (list of) keyword(s)\n",
    "    \n",
    "    \n",
    "    Parameters:\n",
    "        bertopic_model: a (fitted) BERTopic model object\n",
    "        \n",
    "        keywords:   a string containing one or multiple keywords to match against,\n",
    "                    \n",
    "                    This can also be a list in the form of ['keyword(s)', keyword(s), ...]\n",
    "                    \n",
    "                    In this case a maximum of top_n topics will be found per list element \n",
    "                    and subsetted to the top_n most relevant topics.\n",
    "                    \n",
    "                    !!!\n",
    "                    Take care that this method only considers the relevancy per inputted keyword(s) \n",
    "                    and not the relevancy to the combined list of keywords.\n",
    "                    \n",
    "                    In other words, topics that appear in the output might be significantly related to a \n",
    "                    particular element in the list of keywords but not so to any other element, \n",
    "                    \n",
    "                    while topics that do not appear in the output might be significantly related to the \n",
    "                    combined list of keywords but not much to any of the keyword(s) in particular.\n",
    "                    !!!\n",
    "                    \n",
    "        top_n: an integer indicating the number of desired relevant topics to be retrieved\n",
    "        \n",
    "        \n",
    "        Return: a list of the top_n (or less) topics most relevant to the (list of) provided keyword(s)\n",
    "    '''\n",
    "    \n",
    "    if type(keywords) is str: keywords = [keywords] # If a single string is provided convert it to list type\n",
    "    \n",
    "    relevant_topics = list() # Initilize an empty list of relevant topics\n",
    "    \n",
    "    for keyword in keywords: # Iterate through list of keywords\n",
    "        \n",
    "        # Find the top n number of topics related to the current keyword(s)\n",
    "        topics = bertopic_model.find_topics(keyword, top_n = top_n)\n",
    "        \n",
    "        # Add the topics to the list of relevant topics in the form of (topic_id, relevancy)\n",
    "        relevant_topics.extend(\n",
    "            zip(topics[0], topics[1]) # topics[0] = topic_id, topics[1] = relevancy\n",
    "        )\n",
    "    \n",
    "    \n",
    "    relevant_topics.sort(key=lambda x: x[1]) # Sort the list of topics on ASCENDING ORDER of relevancy\n",
    "    \n",
    "    # Get a list of the set of unique topics (with greates relevancy in case of duplicate topics)\n",
    "    relevant_topics = list(dict(relevant_topics).items())\n",
    "    \n",
    "    \n",
    "    relevant_topics.sort(key=lambda x: x[1], reverse=True) # Now sort the list of topics on DESCENDING ORDER of relevancy\n",
    "    \n",
    "    return relevant_topics[:10] # Return a list of the top_n unique relevant topics"
   ]
  },
  {
   "cell_type": "markdown",
   "metadata": {
    "collapsed": false,
    "jupyter": {
     "outputs_hidden": false
    },
    "pycharm": {
     "name": "#%% md\n"
    }
   },
   "source": [
    "## create dfs for the different models"
   ]
  },
  {
   "cell_type": "code",
   "execution_count": null,
   "metadata": {
    "collapsed": false,
    "jupyter": {
     "outputs_hidden": false
    },
    "pycharm": {
     "name": "#%%\n"
    }
   },
   "outputs": [],
   "source": [
    "def topics_related_to_keywords(df, model, keywords_list, end_keyword):\n",
    "    relevant_topics = get_relevant_topics(bertopic_model = model, keywords=keywords_list, top_n=10)\n",
    "\n",
    "    topic_ids = [el[0] for el in relevant_topics] # Create seperate list of topic IDs\n",
    "    \n",
    "    df[end_keyword] = [t in topic_ids for t in model.topics_] # Add boolean column to df if topic in list of relevant topics\n",
    "    \n",
    "    # View the Count, Name, Representation, and Representative Docs for the relevant topics\n",
    "    model.get_topic_info().set_index('Topic').loc[topic_ids]\n",
    "    return df\n",
    "\n",
    "models_dict = {\n",
    "    'bertopic_standard': bertopic_standard,\n",
    "    'bertopic_PCA': bertopic_PCA,\n",
    "    'bertopic_KM': bertopic_KM,\n",
    "    'bertopic_PCA_KM': bertopic_PCA_KM,\n",
    "    'bertopic_NG': bertopic_NG,\n",
    "    'bertopic_PCA_NG': bertopic_PCA_NG,\n",
    "    'bertopic_KM_NG': bertopic_KM_NG,\n",
    "    'bertopic_PCA_KM_NG': bertopic_PCA_KM_NG,\n",
    "    'bertopic_VM': bertopic_VM,\n",
    "    'bertopic_VM_KM': bertopic_VM_KM,\n",
    "    'bertopic_VM_KM_PCA': bertopic_VM_KM_PCA,\n",
    "    'bertopic_VM_KM_NG': bertopic_VM_KM_NG,\n",
    "    'bertopic_VM_KM_PCA_NG': bertopic_VM_KM_PCA_NG,\n",
    "    'bertopic_VM_NG': bertopic_VM_NG, \n",
    "    'bertopic_VM_NG_D': bertopic_VM_NG_D, \n",
    "    'bertopic_VM_KM_NG_D': bertopic_VM_KM_NG_D,\n",
    "    'bertopic_VM_PCA': bertopic_VM_PCA,\n",
    "    'bertopic_VM_PCA_NG': bertopic_VM_PCA_NG,\n",
    "    'bertopic_VM_PCA_NG_D': bertopic_VM_PCA_NG_D\n",
    "}\n",
    "\n",
    "keyw = {\"hunger\": ['hunger', 'food insecurity'], \n",
    "        \"refugees\": ['refugees', 'displaced'], \n",
    "        \"humanitarian\": [\"humanitarian\"], \n",
    "        \"conflict\": ['conflict', 'fighting', 'murder']}\n",
    "keys_list = list(keyw.keys())\n",
    "\n",
    "for name, mod in models_dict.items():\n",
    "    df = pd.read_csv(\"data/articles_summary_cleaned.csv\", parse_dates=[\"date\"])\n",
    "    df_name = 'df_' + name\n",
    "    for keyword, keywlist in keyw.items():\n",
    "        df = topics_related_to_keywords(df, mod, keywlist, keyword)\n",
    "    original_df = pd.read_csv(\"data/articles_summary_cleaned.csv\", parse_dates=[\"date\"])\n",
    "    df_merge = original_df.merge(df[['summary'] + keys_list], how=\"left\", left_on=\"summary\", right_on=\"summary\")\n",
    "    df_merge.to_csv(\"data/\"+str(name)+\".csv\", index=False)"
   ]
  },
  {
   "cell_type": "code",
   "execution_count": null,
   "metadata": {
    "collapsed": false,
    "jupyter": {
     "outputs_hidden": false
    },
    "pycharm": {
     "name": "#%%\n"
    }
   },
   "outputs": [],
   "source": []
  },
  {
   "cell_type": "code",
   "execution_count": null,
   "metadata": {
    "collapsed": false,
    "jupyter": {
     "outputs_hidden": false
    },
    "pycharm": {
     "name": "#%%\n"
    }
   },
   "outputs": [],
   "source": []
  },
  {
   "cell_type": "code",
   "execution_count": null,
   "metadata": {
    "collapsed": false,
    "jupyter": {
     "outputs_hidden": false
    },
    "pycharm": {
     "name": "#%%\n"
    }
   },
   "outputs": [],
   "source": []
  },
  {
   "cell_type": "code",
   "execution_count": null,
   "metadata": {
    "collapsed": false,
    "jupyter": {
     "outputs_hidden": false
    },
    "pycharm": {
     "name": "#%%\n"
    }
   },
   "outputs": [],
   "source": [
    "# Get the top 10 topics related to the keywords 'hunger' and 'food insecurity'\n",
    "relevant_topics = get_relevant_topics(bertopic_model = bertopic_standard, keywords=['hunger', 'food insecurity'], top_n=10)\n",
    "\n",
    "topic_ids = [el[0] for el in relevant_topics] # Create seperate list of topic IDs\n",
    "\n",
    "for topic_id, relevancy in relevant_topics: # Print neat list of (topic_id, relevancy) tuples\n",
    "    print(topic_id, relevancy)\n",
    "    \n",
    "df[\"hunger\"] = [t in topic_ids for t in bertopic_standard.topics_] # Add boolean column to df if topic in list of relevant topics\n",
    "\n",
    "# View the Count, Name, Representation, and Representative Docs for the relevant topics\n",
    "bertopic_standard.get_topic_info().set_index('Topic').loc[topic_ids]"
   ]
  },
  {
   "cell_type": "code",
   "execution_count": null,
   "metadata": {
    "collapsed": false,
    "jupyter": {
     "outputs_hidden": false
    },
    "pycharm": {
     "name": "#%%\n"
    }
   },
   "outputs": [],
   "source": [
    "# Get the top 10 topics related to the keywords 'refugees' and 'displaced'\n",
    "relevant_topics = get_relevant_topics(bertopic_model = bertopic_standard, keywords=['refugees', 'displaced'], top_n=10)\n",
    "\n",
    "topic_ids = [el[0] for el in relevant_topics] # Create seperate list of topic IDs\n",
    "\n",
    "for topic_id, relevancy in relevant_topics: # Print neat list of (topic_id, relevancy) tuples\n",
    "    print(topic_id, relevancy)\n",
    "    \n",
    "df[\"refugees\"] = [t in topic_ids for t in bertopic_standard.topics_] # Add boolean column to df if topic in list of relevant topics\n",
    "\n",
    "# View the Count, Name, Representation, and Representative Docs for the relevant topics\n",
    "bertopic_standard.get_topic_info().set_index('Topic').loc[topic_ids]"
   ]
  },
  {
   "cell_type": "code",
   "execution_count": null,
   "metadata": {
    "collapsed": false,
    "jupyter": {
     "outputs_hidden": false
    },
    "pycharm": {
     "name": "#%%\n"
    }
   },
   "outputs": [],
   "source": [
    "# Get the top 10 topics related to the keyword 'humanitarian'\n",
    "relevant_topics = get_relevant_topics(bertopic_model = bertopic_standard, keywords=['humanitarian'], top_n=10)\n",
    "\n",
    "topic_ids = [el[0] for el in relevant_topics] # Create seperate list of topic IDs\n",
    "\n",
    "for topic_id, relevancy in relevant_topics: # Print neat list of (topic_id, relevancy) tuples\n",
    "    print(topic_id, relevancy)\n",
    "    \n",
    "df[\"humanitarian\"] = [t in topic_ids for t in bertopic_standard.topics_] # Add boolean column to df if topic in list of relevant topics\n",
    "\n",
    "# View the Count, Name, Representation, and Representative Docs for the relevant topics\n",
    "bertopic_standard.get_topic_info().set_index('Topic').loc[topic_ids]"
   ]
  },
  {
   "cell_type": "code",
   "execution_count": null,
   "metadata": {
    "collapsed": false,
    "jupyter": {
     "outputs_hidden": false
    },
    "pycharm": {
     "name": "#%%\n"
    }
   },
   "outputs": [],
   "source": [
    "# Get the top 10 topics related to the keywords 'conflict', 'fighting', and 'murder'\n",
    "relevant_topics = get_relevant_topics(bertopic_model = bertopic_standard, keywords=['conflict', 'fighting', 'murder'], top_n=10)\n",
    "\n",
    "topic_ids = [el[0] for el in relevant_topics] # Create seperate list of topic IDs\n",
    "\n",
    "for topic_id, relevancy in relevant_topics: # Print neat list of (topic_id, relevancy) tuples\n",
    "    print(topic_id, relevancy)\n",
    "    \n",
    "df[\"conflict\"] = [t in topic_ids for t in bertopic_standard.topics_] # Add boolean column to df if topic in list of relevant topics\n",
    "\n",
    "# View the Count, Name, Representation, and Representative Docs for the relevant topics\n",
    "bertopic_standard.get_topic_info().set_index('Topic').loc[topic_ids]"
   ]
  },
  {
   "cell_type": "code",
   "execution_count": 12,
   "metadata": {
    "pycharm": {
     "name": "#%%\n"
    }
   },
   "outputs": [
    {
     "name": "stdout",
     "output_type": "stream",
     "text": [
      "18520\n",
      "16580\n"
     ]
    }
   ],
   "source": [
    "print(len(df))\n",
    "print(len(df[(df[\"hunger\"]==False) & (df[\"refugees\"] == False) & (df[\"humanitarian\"] == False) & (df[\"conflict\"] == False)]))"
   ]
  },
  {
   "cell_type": "markdown",
   "metadata": {
    "pycharm": {
     "name": "#%% md\n"
    }
   },
   "source": [
    "There are a lot of articles that do not get sorted into either of the categories. So, feel free to change or expand this approach!"
   ]
  }
 ],
 "metadata": {
  "kernelspec": {
   "display_name": "Python 3 (ipykernel)",
   "language": "python",
   "name": "python3"
  },
  "language_info": {
   "codemirror_mode": {
    "name": "ipython",
    "version": 3
   },
   "file_extension": ".py",
   "mimetype": "text/x-python",
   "name": "python",
   "nbconvert_exporter": "python",
   "pygments_lexer": "ipython3",
   "version": "3.10.10"
  }
 },
 "nbformat": 4,
 "nbformat_minor": 4
}
